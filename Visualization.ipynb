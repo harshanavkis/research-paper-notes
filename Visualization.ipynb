{
 "cells": [
  {
   "cell_type": "code",
   "execution_count": 1,
   "metadata": {},
   "outputs": [],
   "source": [
    "import numpy as np\n",
    "from matplotlib import pyplot as plt\n",
    "%matplotlib inline"
   ]
  },
  {
   "cell_type": "markdown",
   "metadata": {},
   "source": [
    "* Layer of split : block3_pool"
   ]
  },
  {
   "cell_type": "code",
   "execution_count": 2,
   "metadata": {},
   "outputs": [],
   "source": [
    "ec = np.load('vis\\\\0.1loss_1Burst_8packet_block3_poolEC.npy') #with error concealment\n",
    "normal = np.load('vis\\\\1e-05loss_3Burst_8packet_block3_poolnormal.npy') #no loss\n",
    "noec = np.load('vis\\\\0.1loss_1Burst_8packet_block3_pool.npy') #no error concealment but with loss\n",
    "loss = np.load('vis\\\\0.1loss_1Burst_8packet_block3_poolloss.npy') #lost indices"
   ]
  },
  {
   "cell_type": "code",
   "execution_count": 3,
   "metadata": {},
   "outputs": [],
   "source": [
    "np.set_printoptions(threshold=np.nan)\n",
    "loss = np.squeeze(loss, axis=0)\n",
    "j = np.lexsort((loss[:,0], loss[:,-1]))\n",
    "loss = loss[j]"
   ]
  },
  {
   "cell_type": "code",
   "execution_count": 5,
   "metadata": {},
   "outputs": [],
   "source": [
    "p = 8 #number of rows per packet"
   ]
  },
  {
   "cell_type": "code",
   "execution_count": 6,
   "metadata": {},
   "outputs": [],
   "source": [
    "from vis.quantizer import QLayer as QL"
   ]
  },
  {
   "cell_type": "code",
   "execution_count": 7,
   "metadata": {},
   "outputs": [],
   "source": [
    "def visualizeLayer(tensorPlane):\n",
    "    qt = QL(8)\n",
    "    qt.bitQuantizer(tensorPlane)\n",
    "    return qt.quanData"
   ]
  },
  {
   "cell_type": "markdown",
   "metadata": {},
   "source": [
    "## 2 consecutive packets of batch 2 and channel 2 are lost"
   ]
  },
  {
   "cell_type": "markdown",
   "metadata": {},
   "source": [
    "### With error concealment"
   ]
  },
  {
   "cell_type": "code",
   "execution_count": 13,
   "metadata": {},
   "outputs": [
    {
     "data": {
      "text/plain": [
       "array([[1461.72094727,  754.79699707, 1251.87475586],\n",
       "       [ 992.92858887,  182.34306335,  669.34814453],\n",
       "       [3498.89526367, 2523.39794922, 2504.62280273],\n",
       "       [ 293.43087769, 1028.5435791 , 2751.6862793 ],\n",
       "       [   0.        ,    0.        ,   77.75593567],\n",
       "       [   0.        ,    0.        ,    0.        ],\n",
       "       [   0.        ,    0.        ,    0.        ],\n",
       "       [   0.        ,    0.        ,    0.        ],\n",
       "       [ 514.1449585 , 1198.25891113,    0.        ],\n",
       "       [1268.85668945, 1585.66784668,    0.        ]])"
      ]
     },
     "execution_count": 13,
     "metadata": {},
     "output_type": "execute_result"
    }
   ],
   "source": [
    "bq = ec[57,:,:,0]\n",
    "bq[7:17, 8:11]"
   ]
  },
  {
   "cell_type": "code",
   "execution_count": 15,
   "metadata": {},
   "outputs": [
    {
     "name": "stdout",
     "output_type": "stream",
     "text": [
      "bit quantizer complete in 0.0!!\n"
     ]
    },
    {
     "data": {
      "text/plain": [
       "array([[ 36., 128.,  68.,  50.],\n",
       "       [ 34., 127.,  70.,  58.],\n",
       "       [ 32., 126.,  71.,  67.],\n",
       "       [ 30., 125.,  72.,  75.],\n",
       "       [ 29., 125.,  73.,  83.],\n",
       "       [ 27., 124.,  74.,  91.],\n",
       "       [ 25., 123.,  75.,  99.],\n",
       "       [ 23., 123.,  76., 107.],\n",
       "       [ 22., 122.,  78., 116.],\n",
       "       [ 20., 121.,  79., 124.],\n",
       "       [ 18., 120.,  80., 132.],\n",
       "       [ 16., 120.,  81., 140.],\n",
       "       [ 14., 119.,  82., 148.],\n",
       "       [ 13., 118.,  83., 157.],\n",
       "       [ 11., 118.,  84., 165.],\n",
       "       [  9., 117.,  86., 173.],\n",
       "       [  7., 116.,  87., 181.],\n",
       "       [  7., 116.,  87., 181.]])"
      ]
     },
     "execution_count": 15,
     "metadata": {},
     "output_type": "execute_result"
    }
   ],
   "source": [
    "visData = visualizeLayer(ec[47,:,:,1])\n",
    "visData[7:25, 10:14]"
   ]
  },
  {
   "cell_type": "code",
   "execution_count": 9,
   "metadata": {},
   "outputs": [
    {
     "data": {
      "text/plain": [
       "<matplotlib.image.AxesImage at 0x1843ea58>"
      ]
     },
     "execution_count": 9,
     "metadata": {},
     "output_type": "execute_result"
    },
    {
     "data": {
      "image/png": "[encoded data removed]",
      "text/plain": [
       "<Figure size 432x288 with 1 Axes>"
      ]
     },
     "metadata": {},
     "output_type": "display_data"
    }
   ],
   "source": [
    "plt.imshow(visData, cmap='gray')"
   ]
  },
  {
   "cell_type": "markdown",
   "metadata": {},
   "source": [
    "### No error concealment"
   ]
  },
  {
   "cell_type": "code",
   "execution_count": 16,
   "metadata": {},
   "outputs": [
    {
     "name": "stdout",
     "output_type": "stream",
     "text": [
      "bit quantizer complete in 0.0009999275207519531!!\n"
     ]
    },
    {
     "data": {
      "text/plain": [
       "array([[ 36., 128.,  68.,  50.],\n",
       "       [  0.,   0.,   0.,   0.],\n",
       "       [  0.,   0.,   0.,   0.],\n",
       "       [  0.,   0.,   0.,   0.],\n",
       "       [  0.,   0.,   0.,   0.],\n",
       "       [  0.,   0.,   0.,   0.],\n",
       "       [  0.,   0.,   0.,   0.],\n",
       "       [  0.,   0.,   0.,   0.],\n",
       "       [  0.,   0.,   0.,   0.],\n",
       "       [  0.,   0.,   0.,   0.],\n",
       "       [  0.,   0.,   0.,   0.],\n",
       "       [  0.,   0.,   0.,   0.],\n",
       "       [  0.,   0.,   0.,   0.],\n",
       "       [  0.,   0.,   0.,   0.],\n",
       "       [  0.,   0.,   0.,   0.],\n",
       "       [  0.,   0.,   0.,   0.],\n",
       "       [  0.,   0.,   0.,   0.],\n",
       "       [  7., 116.,  87., 181.]])"
      ]
     },
     "execution_count": 16,
     "metadata": {},
     "output_type": "execute_result"
    }
   ],
   "source": [
    "visData = visualizeLayer(noec[47,:,:,1])\n",
    "visData[7:25, 10:14]"
   ]
  },
  {
   "cell_type": "code",
   "execution_count": 11,
   "metadata": {},
   "outputs": [
    {
     "data": {
      "text/plain": [
       "<matplotlib.image.AxesImage at 0x186c2470>"
      ]
     },
     "execution_count": 11,
     "metadata": {},
     "output_type": "execute_result"
    },
    {
     "data": {
      "image/png": "[encoded data removed]",
      "text/plain": [
       "<Figure size 432x288 with 1 Axes>"
      ]
     },
     "metadata": {},
     "output_type": "display_data"
    }
   ],
   "source": [
    "plt.imshow(visData, cmap='gray')"
   ]
  },
  {
   "cell_type": "markdown",
   "metadata": {},
   "source": [
    "### No error concealment or loss"
   ]
  },
  {
   "cell_type": "code",
   "execution_count": 15,
   "metadata": {},
   "outputs": [
    {
     "name": "stdout",
     "output_type": "stream",
     "text": [
      "bit quantizer complete in 0.0009999275207519531!!\n"
     ]
    },
    {
     "data": {
      "text/plain": [
       "array([  0.,   1.,   2.,   3.,   4.,   5.,   6.,   7.,   8.,   9.,  10.,\n",
       "        11.,  12.,  13.,  14.,  15.,  16.,  17.,  18.,  19.,  20.,  21.,\n",
       "        22.,  23.,  24.,  25.,  26.,  27.,  28.,  29.,  30.,  31.,  32.,\n",
       "        33.,  34.,  35.,  36.,  37.,  38.,  39.,  40.,  41.,  42.,  43.,\n",
       "        45.,  46.,  47.,  48.,  49.,  50.,  51.,  52.,  53.,  54.,  55.,\n",
       "        56.,  57.,  58.,  61.,  64.,  65.,  66.,  67.,  69.,  70.,  72.,\n",
       "        73.,  74.,  77.,  78.,  79.,  86.,  93., 102., 108., 124., 125.,\n",
       "       128., 153., 159., 166., 168., 191., 205., 209., 222., 255.])"
      ]
     },
     "execution_count": 15,
     "metadata": {},
     "output_type": "execute_result"
    }
   ],
   "source": [
    "visData = visualizeLayer(normal[1,:,:,0])\n",
    "np.unique(visData)"
   ]
  },
  {
   "cell_type": "code",
   "execution_count": 58,
   "metadata": {},
   "outputs": [
    {
     "data": {
      "text/plain": [
       "<matplotlib.image.AxesImage at 0x18827a20>"
      ]
     },
     "execution_count": 58,
     "metadata": {},
     "output_type": "execute_result"
    },
    {
     "data": {
      "image/png": "[encoded data removed]",
      "text/plain": [
       "<Figure size 432x288 with 1 Axes>"
      ]
     },
     "metadata": {},
     "output_type": "display_data"
    }
   ],
   "source": [
    "plt.imshow(visData, cmap='gray')"
   ]
  },
  {
   "cell_type": "code",
   "execution_count": 14,
   "metadata": {},
   "outputs": [
    {
     "data": {
      "text/plain": [
       "array([0.0625, 0.125 , 0.1875, 0.25  , 0.3125, 0.375 , 0.4375, 0.5   ,\n",
       "       0.5625, 0.625 , 0.6875, 0.75  , 0.8125, 0.875 , 0.9375, 1.    ])"
      ]
     },
     "execution_count": 14,
     "metadata": {},
     "output_type": "execute_result"
    }
   ],
   "source": [
    "r = np.arange(1, 17)/(16)\n",
    "r"
   ]
  },
  {
   "cell_type": "code",
   "execution_count": null,
   "metadata": {},
   "outputs": [],
   "source": []
  }
 ],
 "metadata": {
  "kernelspec": {
   "display_name": "kerasEnv",
   "language": "python",
   "name": "kerasenv"
  },
  "language_info": {
   "codemirror_mode": {
    "name": "ipython",
    "version": 3
   },
   "file_extension": ".py",
   "mimetype": "text/x-python",
   "name": "python",
   "nbconvert_exporter": "python",
   "pygments_lexer": "ipython3",
   "version": "3.6.4"
  }
 },
 "nbformat": 4,
 "nbformat_minor": 2
}
