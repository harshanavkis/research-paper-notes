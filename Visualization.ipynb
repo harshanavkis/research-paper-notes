{
 "cells": [
  {
   "cell_type": "code",
   "execution_count": 36,
   "metadata": {},
   "outputs": [],
   "source": [
    "import numpy as np\n",
    "from matplotlib import pyplot as plt\n",
    "%matplotlib inline"
   ]
  },
  {
   "cell_type": "markdown",
   "metadata": {},
   "source": [
    "* Layer of split : block3_pool"
   ]
  },
  {
   "cell_type": "code",
   "execution_count": 37,
   "metadata": {},
   "outputs": [],
   "source": [
    "ec = np.load('vis\\\\0.1loss_3Burst_8packet_block3_poolEC.npy') #with error concealment\n",
    "normal = np.load('vis\\\\1e-05loss_3Burst_8packet_block3_poolnormal.npy') #no loss\n",
    "noec = np.load('vis\\\\0.1loss_3Burst_8packet_block3_pool.npy') #no error concealment but with loss\n",
    "loss = np.load('vis\\\\0.1loss_3Burst_8packet_block3_poolloss.npy') #lost indices"
   ]
  },
  {
   "cell_type": "code",
   "execution_count": 38,
   "metadata": {},
   "outputs": [],
   "source": [
    "# np.set_printoptions(threshold=np.nan)\n",
    "loss = np.squeeze(loss, axis=0)\n",
    "j = np.lexsort((loss[:,0], loss[:,-1]))\n",
    "loss = loss[j]"
   ]
  },
  {
   "cell_type": "code",
   "execution_count": 26,
   "metadata": {},
   "outputs": [],
   "source": [
    "p = 8 #number of rows per packet"
   ]
  },
  {
   "cell_type": "code",
   "execution_count": 27,
   "metadata": {},
   "outputs": [],
   "source": [
    "from vis.quantizer import QLayer as QL"
   ]
  },
  {
   "cell_type": "code",
   "execution_count": 28,
   "metadata": {},
   "outputs": [],
   "source": [
    "def visualizeLayer(tensorPlane):\n",
    "    qt = QL(8)\n",
    "    qt.bitQuantizer(tensorPlane)\n",
    "    return qt.quanData"
   ]
  },
  {
   "cell_type": "markdown",
   "metadata": {},
   "source": [
    "## 2 consecutive packets of batch 2 and channel 2 are lost"
   ]
  },
  {
   "cell_type": "markdown",
   "metadata": {},
   "source": [
    "### With error concealment"
   ]
  },
  {
   "cell_type": "code",
   "execution_count": 29,
   "metadata": {},
   "outputs": [
    {
     "name": "stdout",
     "output_type": "stream",
     "text": [
      "bit quantizer complete in 0.0010001659393310547!!\n"
     ]
    },
    {
     "data": {
      "text/plain": [
       "array([  0.,   1.,   2.,   3.,   4.,   5.,   6.,   7.,   8.,   9.,  10.,\n",
       "        11.,  12.,  13.,  15.,  16.,  17.,  18.,  20.,  22.,  23.,  24.,\n",
       "        25.,  26.,  27.,  28.,  29.,  30.,  32.,  36.,  37.,  38.,  39.,\n",
       "        40.,  41.,  42.,  43.,  44.,  45.,  46.,  47.,  48.,  49.,  50.,\n",
       "        51.,  53.,  55.,  56.,  57.,  58.,  59.,  60.,  61.,  62.,  63.,\n",
       "        64.,  65.,  66.,  69.,  70.,  72.,  75.,  76.,  78.,  79.,  81.,\n",
       "        84.,  85.,  86.,  87.,  88.,  92.,  94.,  95.,  96.,  99., 100.,\n",
       "       103., 106., 108., 111., 113., 123., 125., 129., 131., 134., 137.,\n",
       "       140., 141., 146., 149., 152., 154., 155., 157., 179., 194., 203.,\n",
       "       218., 255.])"
      ]
     },
     "execution_count": 29,
     "metadata": {},
     "output_type": "execute_result"
    }
   ],
   "source": [
    "visData = visualizeLayer(ec[2,:,:,0])\n",
    "np.unique(visData)"
   ]
  },
  {
   "cell_type": "code",
   "execution_count": 30,
   "metadata": {},
   "outputs": [
    {
     "data": {
      "text/plain": [
       "<matplotlib.image.AxesImage at 0x6b932e8>"
      ]
     },
     "execution_count": 30,
     "metadata": {},
     "output_type": "execute_result"
    },
    {
     "data": {
      "image/png": "[encoded data removed]",
      "text/plain": [
       "<Figure size 432x288 with 1 Axes>"
      ]
     },
     "metadata": {},
     "output_type": "display_data"
    }
   ],
   "source": [
    "plt.imshow(visData, cmap='gray')"
   ]
  },
  {
   "cell_type": "markdown",
   "metadata": {},
   "source": [
    "### No error concealment"
   ]
  },
  {
   "cell_type": "code",
   "execution_count": 31,
   "metadata": {},
   "outputs": [
    {
     "name": "stdout",
     "output_type": "stream",
     "text": [
      "bit quantizer complete in 0.0009999275207519531!!\n"
     ]
    },
    {
     "data": {
      "text/plain": [
       "array([  0.,   1.,   2.,   3.,   4.,   5.,   6.,   7.,   8.,   9.,  10.,\n",
       "        11.,  12.,  13.,  15.,  16.,  17.,  18.,  20.,  22.,  23.,  24.,\n",
       "        25.,  26.,  27.,  28.,  29.,  30.,  32.,  36.,  37.,  38.,  39.,\n",
       "        40.,  41.,  42.,  43.,  44.,  45.,  46.,  47.,  48.,  49.,  50.,\n",
       "        51.,  53.,  55.,  56.,  57.,  58.,  59.,  60.,  61.,  62.,  63.,\n",
       "        64.,  65.,  66.,  69.,  70.,  72.,  75.,  76.,  78.,  79.,  81.,\n",
       "        84.,  85.,  86.,  87.,  88.,  92.,  94.,  95.,  96.,  99., 100.,\n",
       "       103., 106., 108., 111., 113., 123., 125., 129., 131., 134., 137.,\n",
       "       140., 141., 146., 149., 152., 154., 155., 157., 179., 194., 203.,\n",
       "       218., 255.])"
      ]
     },
     "execution_count": 31,
     "metadata": {},
     "output_type": "execute_result"
    }
   ],
   "source": [
    "visData = visualizeLayer(noec[2,:,:,0])\n",
    "np.unique(visData)"
   ]
  },
  {
   "cell_type": "code",
   "execution_count": 32,
   "metadata": {},
   "outputs": [
    {
     "data": {
      "text/plain": [
       "<matplotlib.image.AxesImage at 0x6bea320>"
      ]
     },
     "execution_count": 32,
     "metadata": {},
     "output_type": "execute_result"
    },
    {
     "data": {
      "image/png": "[encoded data removed]",
      "text/plain": [
       "<Figure size 432x288 with 1 Axes>"
      ]
     },
     "metadata": {},
     "output_type": "display_data"
    }
   ],
   "source": [
    "plt.imshow(visData, cmap='gray')"
   ]
  },
  {
   "cell_type": "markdown",
   "metadata": {},
   "source": [
    "### No error concealment or loss"
   ]
  },
  {
   "cell_type": "code",
   "execution_count": 34,
   "metadata": {},
   "outputs": [
    {
     "name": "stdout",
     "output_type": "stream",
     "text": [
      "bit quantizer complete in 0.0009999275207519531!!\n"
     ]
    },
    {
     "data": {
      "text/plain": [
       "array([  0.,   1.,   2.,   3.,   4.,   5.,   6.,   7.,   8.,   9.,  10.,\n",
       "        11.,  12.,  13.,  14.,  15.,  16.,  17.,  18.,  19.,  20.,  21.,\n",
       "        22.,  23.,  24.,  25.,  26.,  27.,  28.,  29.,  30.,  31.,  32.,\n",
       "        33.,  34.,  35.,  36.,  37.,  38.,  39.,  40.,  41.,  42.,  43.,\n",
       "        44.,  45.,  46.,  47.,  48.,  49.,  50.,  51.,  53.,  54.,  55.,\n",
       "        56.,  57.,  58.,  59.,  60.,  61.,  62.,  63.,  64.,  65.,  66.,\n",
       "        67.,  68.,  69.,  70.,  72.,  74.,  75.,  76.,  78.,  79.,  81.,\n",
       "        82.,  83.,  84.,  85.,  86.,  87.,  88.,  91.,  92.,  94.,  95.,\n",
       "        96.,  99., 100., 103., 106., 107., 108., 109., 111., 113., 115.,\n",
       "       117., 119., 121., 123., 125., 128., 129., 131., 134., 135., 137.,\n",
       "       139., 140., 141., 146., 149., 152., 154., 155., 157., 162., 167.,\n",
       "       172., 174., 178., 179., 185., 194., 203., 218., 255.])"
      ]
     },
     "execution_count": 34,
     "metadata": {},
     "output_type": "execute_result"
    }
   ],
   "source": [
    "visData = visualizeLayer(normal[2,:,:,0])\n",
    "np.unique(visData)"
   ]
  },
  {
   "cell_type": "code",
   "execution_count": 35,
   "metadata": {},
   "outputs": [
    {
     "data": {
      "text/plain": [
       "<matplotlib.image.AxesImage at 0x6c43630>"
      ]
     },
     "execution_count": 35,
     "metadata": {},
     "output_type": "execute_result"
    },
    {
     "data": {
      "image/png": "[encoded data removed]",
      "text/plain": [
       "<Figure size 432x288 with 1 Axes>"
      ]
     },
     "metadata": {},
     "output_type": "display_data"
    }
   ],
   "source": [
    "plt.imshow(visData, cmap='gray')"
   ]
  },
  {
   "cell_type": "code",
   "execution_count": null,
   "metadata": {},
   "outputs": [],
   "source": []
  }
 ],
 "metadata": {
  "kernelspec": {
   "display_name": "kerasEnv",
   "language": "python",
   "name": "kerasenv"
  },
  "language_info": {
   "codemirror_mode": {
    "name": "ipython",
    "version": 3
   },
   "file_extension": ".py",
   "mimetype": "text/x-python",
   "name": "python",
   "nbconvert_exporter": "python",
   "pygments_lexer": "ipython3",
   "version": "3.6.4"
  }
 },
 "nbformat": 4,
 "nbformat_minor": 2
}
