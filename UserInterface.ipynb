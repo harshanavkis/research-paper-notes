{
 "cells": [
  {
   "cell_type": "markdown",
   "metadata": {},
   "source": [
    "# User Interface Design"
   ]
  },
  {
   "cell_type": "markdown",
   "metadata": {},
   "source": [
    "## Use cases:"
   ]
  },
  {
   "cell_type": "markdown",
   "metadata": {},
   "source": [
    "* Classification\n",
    "* Object detection\n",
    "* Semantic segmentation"
   ]
  },
  {
   "cell_type": "markdown",
   "metadata": {},
   "source": [
    "Below parameters are part of config file which is the last layer between the user and the software. Above use case types can also be made parameters."
   ]
  },
  {
   "cell_type": "markdown",
   "metadata": {},
   "source": [
    "## Classification:"
   ]
  },
  {
   "cell_type": "markdown",
   "metadata": {},
   "source": [
    "### Input:\n",
    "* Disk structure:\n",
    "    * Folder names are class numbers and each folder has all the images\n",
    "* User provides the top directory location where these folders are located\n",
    "* Provided location can be absolute or relative"
   ]
  },
  {
   "cell_type": "markdown",
   "metadata": {},
   "source": [
    "### Model:"
   ]
  },
  {
   "cell_type": "markdown",
   "metadata": {},
   "source": [
    "* User must input a keras model which has been released officially.\n",
    "* User can also enter the https link to the model which is again a keras model."
   ]
  },
  {
   "cell_type": "markdown",
   "metadata": {},
   "source": [
    "### Split Layer:"
   ]
  },
  {
   "cell_type": "markdown",
   "metadata": {},
   "source": [
    "* User must provide the layer name as it was named in the corresponding keras model, else an exception will be thrown."
   ]
  },
  {
   "cell_type": "markdown",
   "metadata": {},
   "source": [
    "### Channel:"
   ]
  },
  {
   "cell_type": "markdown",
   "metadata": {},
   "source": [
    "This will have different sections within the config file, each for a different channel.\n",
    "* Each section will have the following parts:\n",
    "    * Boolean value stating that the software use this model for the simulation.\n",
    "    * Loss probabilities, burst lengths, etc wherever applicable.\n",
    "    * If all bool values are false then the simulation proceeds without any channel(trivial case).\n",
    "    * If more than bool value is true then an exception is thrown and the program is exited."
   ]
  },
  {
   "cell_type": "markdown",
   "metadata": {},
   "source": [
    "### Quantization:"
   ]
  },
  {
   "cell_type": "markdown",
   "metadata": {},
   "source": [
    "This will have different sections in the config file, having the following parts:\n",
    "  * Boolean value stating whether we need to include quantization in our simulation\n",
    "  * Number of bits per quantization"
   ]
  },
  {
   "cell_type": "markdown",
   "metadata": {},
   "source": [
    "### Interpolation:"
   ]
  },
  {
   "cell_type": "markdown",
   "metadata": {},
   "source": [
    "This will have different sections in the config file, each for a different interpolation method\n",
    "* Each section will have the following parts:\n",
    "    * Boolean value stating that the software use this interpolation for the simulation.\n",
    "    * Any parameters wherever applicable.\n",
    "    * If all bool values are false then the simulation proceeds without any interpolation(trivial case).\n",
    "    * If more than bool value is true then an exception is thrown and the program is exited."
   ]
  },
  {
   "cell_type": "markdown",
   "metadata": {},
   "source": [
    "### Compression(Maybe):"
   ]
  },
  {
   "cell_type": "code",
   "execution_count": null,
   "metadata": {},
   "outputs": [],
   "source": []
  }
 ],
 "metadata": {
  "kernelspec": {
   "display_name": "kerasEnv",
   "language": "python",
   "name": "kerasenv"
  },
  "language_info": {
   "codemirror_mode": {
    "name": "ipython",
    "version": 3
   },
   "file_extension": ".py",
   "mimetype": "text/x-python",
   "name": "python",
   "nbconvert_exporter": "python",
   "pygments_lexer": "ipython3",
   "version": "3.6.4"
  }
 },
 "nbformat": 4,
 "nbformat_minor": 2
}
