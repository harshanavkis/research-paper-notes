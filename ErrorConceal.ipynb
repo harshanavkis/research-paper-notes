{
 "cells": [
  {
   "cell_type": "code",
   "execution_count": 2,
   "metadata": {},
   "outputs": [],
   "source": [
    "import numpy as np\n",
    "import os\n",
    "from matplotlib import pyplot as plt\n",
    "%matplotlib inline"
   ]
  },
  {
   "cell_type": "markdown",
   "metadata": {},
   "source": [
    "* 10, 30, 50 percent losses\n",
    "* 88 images of german shepherd\n",
    "* 50 epochs"
   ]
  },
  {
   "cell_type": "markdown",
   "metadata": {},
   "source": [
    "## 10 percent loss"
   ]
  },
  {
   "cell_type": "code",
   "execution_count": 8,
   "metadata": {},
   "outputs": [],
   "source": [
    "dir = 'C:\\\\Users\\\\hunnibha\\\\projectStuff\\\\code\\\\testData\\\\errorConceal\\\\noEC\\\\0.1'\n",
    "dirEc = 'C:\\\\Users\\\\hunnibha\\\\projectStuff\\\\code\\\\testData\\\\errorConceal\\\\EC\\\\0.1'"
   ]
  },
  {
   "cell_type": "code",
   "execution_count": 9,
   "metadata": {},
   "outputs": [
    {
     "data": {
      "text/plain": [
       "['C:\\\\Users\\\\hunnibha\\\\projectStuff\\\\code\\\\testData\\\\errorConceal\\\\noEC\\\\0.1\\\\0.1Loss_1BurstLength8Packet_block3_pool.npy',\n",
       " 'C:\\\\Users\\\\hunnibha\\\\projectStuff\\\\code\\\\testData\\\\errorConceal\\\\noEC\\\\0.1\\\\0.1Loss_2BurstLength8Packet_block3_pool.npy',\n",
       " 'C:\\\\Users\\\\hunnibha\\\\projectStuff\\\\code\\\\testData\\\\errorConceal\\\\noEC\\\\0.1\\\\0.1Loss_3BurstLength8Packet_block3_pool.npy',\n",
       " 'C:\\\\Users\\\\hunnibha\\\\projectStuff\\\\code\\\\testData\\\\errorConceal\\\\noEC\\\\0.1\\\\0.1Loss_4BurstLength8Packet_block3_pool.npy',\n",
       " 'C:\\\\Users\\\\hunnibha\\\\projectStuff\\\\code\\\\testData\\\\errorConceal\\\\noEC\\\\0.1\\\\0.1Loss_5BurstLength8Packet_block3_pool.npy']"
      ]
     },
     "execution_count": 9,
     "metadata": {},
     "output_type": "execute_result"
    }
   ],
   "source": [
    "dirList = os.listdir(dir)\n",
    "dirList = [os.path.join(dir, i) for i in dirList]\n",
    "dirList"
   ]
  },
  {
   "cell_type": "code",
   "execution_count": 13,
   "metadata": {},
   "outputs": [
    {
     "data": {
      "text/plain": [
       "['C:\\\\Users\\\\hunnibha\\\\projectStuff\\\\code\\\\testData\\\\errorConceal\\\\EC\\\\0.1\\\\0.1Loss_1BurstLength8Packet_block3_poolEC.npy',\n",
       " 'C:\\\\Users\\\\hunnibha\\\\projectStuff\\\\code\\\\testData\\\\errorConceal\\\\EC\\\\0.1\\\\0.1Loss_2BurstLength8Packet_block3_poolEC.npy',\n",
       " 'C:\\\\Users\\\\hunnibha\\\\projectStuff\\\\code\\\\testData\\\\errorConceal\\\\EC\\\\0.1\\\\0.1Loss_3BurstLength8Packet_block3_poolEC.npy',\n",
       " 'C:\\\\Users\\\\hunnibha\\\\projectStuff\\\\code\\\\testData\\\\errorConceal\\\\EC\\\\0.1\\\\0.1Loss_4BurstLength8Packet_block3_poolEC.npy',\n",
       " 'C:\\\\Users\\\\hunnibha\\\\projectStuff\\\\code\\\\testData\\\\errorConceal\\\\EC\\\\0.1\\\\0.1Loss_5BurstLength8Packet_block3_poolEC.npy']"
      ]
     },
     "execution_count": 13,
     "metadata": {},
     "output_type": "execute_result"
    }
   ],
   "source": [
    "dirEcList = os.listdir(dirEc)\n",
    "dirEcList = [os.path.join(dirEc, i) for i in dirEcList]\n",
    "dirEcList"
   ]
  },
  {
   "cell_type": "code",
   "execution_count": 11,
   "metadata": {},
   "outputs": [
    {
     "data": {
      "text/plain": [
       "[0.7527272727272725,\n",
       " 0.7484090909090908,\n",
       " 0.7579545454545458,\n",
       " 0.7543181818181818,\n",
       " 0.7581818181818182]"
      ]
     },
     "execution_count": 11,
     "metadata": {},
     "output_type": "execute_result"
    }
   ],
   "source": [
    "bl = np.arange(1, 6, 1)\n",
    "pure = []\n",
    "for i in dirList:\n",
    "    a = np.load(i)\n",
    "    a = np.mean(a, axis=0)\n",
    "    pure.append(a[1])\n",
    "pure"
   ]
  },
  {
   "cell_type": "code",
   "execution_count": 14,
   "metadata": {},
   "outputs": [
    {
     "data": {
      "text/plain": [
       "[0.7745454545454549,\n",
       " 0.7750000000000002,\n",
       " 0.7745454545454549,\n",
       " 0.7718181818181822,\n",
       " 0.7720454545454547]"
      ]
     },
     "execution_count": 14,
     "metadata": {},
     "output_type": "execute_result"
    }
   ],
   "source": [
    "impure = []\n",
    "for i in dirEcList:\n",
    "    a = np.load(i)\n",
    "    a = np.mean(a, axis=0)\n",
    "    impure.append(a[1])\n",
    "impure"
   ]
  },
  {
   "cell_type": "code",
   "execution_count": 17,
   "metadata": {},
   "outputs": [
    {
     "data": {
      "image/png": "[encoded data removed]",
      "text/plain": [
       "<Figure size 432x288 with 1 Axes>"
      ]
     },
     "metadata": {},
     "output_type": "display_data"
    }
   ],
   "source": [
    "plt.plot(bl, pure, label='No error concealment')\n",
    "plt.plot(bl, impure, label='Error Concealment')\n",
    "plt.xlabel('Burst length')\n",
    "plt.ylabel('Classification accuracy')\n",
    "plt.title('10 percent loss')\n",
    "plt.legend(loc='lower right')\n",
    "plt.show()"
   ]
  },
  {
   "cell_type": "markdown",
   "metadata": {},
   "source": [
    "## 30 percent loss"
   ]
  },
  {
   "cell_type": "code",
   "execution_count": 18,
   "metadata": {},
   "outputs": [],
   "source": [
    "dir = 'C:\\\\Users\\\\hunnibha\\\\projectStuff\\\\code\\\\testData\\\\errorConceal\\\\noEC\\\\0.3'\n",
    "dirEc = 'C:\\\\Users\\\\hunnibha\\\\projectStuff\\\\code\\\\testData\\\\errorConceal\\\\EC\\\\0.3'"
   ]
  },
  {
   "cell_type": "code",
   "execution_count": 19,
   "metadata": {},
   "outputs": [
    {
     "data": {
      "text/plain": [
       "['C:\\\\Users\\\\hunnibha\\\\projectStuff\\\\code\\\\testData\\\\errorConceal\\\\noEC\\\\0.3\\\\0.3Loss_1BurstLength8Packet_block3_pool.npy',\n",
       " 'C:\\\\Users\\\\hunnibha\\\\projectStuff\\\\code\\\\testData\\\\errorConceal\\\\noEC\\\\0.3\\\\0.3Loss_2BurstLength8Packet_block3_pool.npy',\n",
       " 'C:\\\\Users\\\\hunnibha\\\\projectStuff\\\\code\\\\testData\\\\errorConceal\\\\noEC\\\\0.3\\\\0.3Loss_3BurstLength8Packet_block3_pool.npy',\n",
       " 'C:\\\\Users\\\\hunnibha\\\\projectStuff\\\\code\\\\testData\\\\errorConceal\\\\noEC\\\\0.3\\\\0.3Loss_4BurstLength8Packet_block3_pool.npy',\n",
       " 'C:\\\\Users\\\\hunnibha\\\\projectStuff\\\\code\\\\testData\\\\errorConceal\\\\noEC\\\\0.3\\\\0.3Loss_5BurstLength8Packet_block3_pool.npy']"
      ]
     },
     "execution_count": 19,
     "metadata": {},
     "output_type": "execute_result"
    }
   ],
   "source": [
    "dirList = os.listdir(dir)\n",
    "dirList = [os.path.join(dir, i) for i in dirList]\n",
    "dirList"
   ]
  },
  {
   "cell_type": "code",
   "execution_count": 20,
   "metadata": {},
   "outputs": [
    {
     "data": {
      "text/plain": [
       "['C:\\\\Users\\\\hunnibha\\\\projectStuff\\\\code\\\\testData\\\\errorConceal\\\\EC\\\\0.3\\\\0.3Loss_1BurstLength8Packet_block3_poolEC.npy',\n",
       " 'C:\\\\Users\\\\hunnibha\\\\projectStuff\\\\code\\\\testData\\\\errorConceal\\\\EC\\\\0.3\\\\0.3Loss_2BurstLength8Packet_block3_poolEC.npy',\n",
       " 'C:\\\\Users\\\\hunnibha\\\\projectStuff\\\\code\\\\testData\\\\errorConceal\\\\EC\\\\0.3\\\\0.3Loss_3BurstLength8Packet_block3_poolEC.npy',\n",
       " 'C:\\\\Users\\\\hunnibha\\\\projectStuff\\\\code\\\\testData\\\\errorConceal\\\\EC\\\\0.3\\\\0.3Loss_4BurstLength8Packet_block3_poolEC.npy',\n",
       " 'C:\\\\Users\\\\hunnibha\\\\projectStuff\\\\code\\\\testData\\\\errorConceal\\\\EC\\\\0.3\\\\0.3Loss_5BurstLength8Packet_block3_poolEC.npy']"
      ]
     },
     "execution_count": 20,
     "metadata": {},
     "output_type": "execute_result"
    }
   ],
   "source": [
    "dirEcList = os.listdir(dirEc)\n",
    "dirEcList = [os.path.join(dirEc, i) for i in dirEcList]\n",
    "dirEcList"
   ]
  },
  {
   "cell_type": "code",
   "execution_count": 21,
   "metadata": {},
   "outputs": [
    {
     "data": {
      "text/plain": [
       "[0.6277272727272727,\n",
       " 0.6304545454545454,\n",
       " 0.6288636363636364,\n",
       " 0.6315909090909089,\n",
       " 0.6299999999999999]"
      ]
     },
     "execution_count": 21,
     "metadata": {},
     "output_type": "execute_result"
    }
   ],
   "source": [
    "bl = np.arange(1, 6, 1)\n",
    "pure = []\n",
    "for i in dirList:\n",
    "    a = np.load(i)\n",
    "    a = np.mean(a, axis=0)\n",
    "    pure.append(a[1])\n",
    "pure"
   ]
  },
  {
   "cell_type": "code",
   "execution_count": 22,
   "metadata": {},
   "outputs": [
    {
     "data": {
      "text/plain": [
       "[0.6734090909090912,\n",
       " 0.6736363636363639,\n",
       " 0.6797727272727272,\n",
       " 0.666590909090909,\n",
       " 0.6711363636363639]"
      ]
     },
     "execution_count": 22,
     "metadata": {},
     "output_type": "execute_result"
    }
   ],
   "source": [
    "impure = []\n",
    "for i in dirEcList:\n",
    "    a = np.load(i)\n",
    "    a = np.mean(a, axis=0)\n",
    "    impure.append(a[1])\n",
    "impure"
   ]
  },
  {
   "cell_type": "code",
   "execution_count": 24,
   "metadata": {},
   "outputs": [
    {
     "data": {
      "image/png": "[encoded data removed]",
      "text/plain": [
       "<Figure size 432x288 with 1 Axes>"
      ]
     },
     "metadata": {},
     "output_type": "display_data"
    }
   ],
   "source": [
    "plt.plot(bl, pure, label='No error concealment')\n",
    "plt.plot(bl, impure, label='Error Concealment')\n",
    "plt.xlabel('Burst length')\n",
    "plt.ylabel('Classification accuracy')\n",
    "plt.title('30 percent loss')\n",
    "plt.legend(loc='right')\n",
    "plt.show()"
   ]
  },
  {
   "cell_type": "markdown",
   "metadata": {},
   "source": [
    "## 50 percent loss"
   ]
  },
  {
   "cell_type": "code",
   "execution_count": 25,
   "metadata": {},
   "outputs": [],
   "source": [
    "dir = 'C:\\\\Users\\\\hunnibha\\\\projectStuff\\\\code\\\\testData\\\\errorConceal\\\\noEC\\\\0.5'\n",
    "dirEc = 'C:\\\\Users\\\\hunnibha\\\\projectStuff\\\\code\\\\testData\\\\errorConceal\\\\EC\\\\0.5'"
   ]
  },
  {
   "cell_type": "code",
   "execution_count": 26,
   "metadata": {},
   "outputs": [
    {
     "data": {
      "text/plain": [
       "['C:\\\\Users\\\\hunnibha\\\\projectStuff\\\\code\\\\testData\\\\errorConceal\\\\noEC\\\\0.5\\\\0.5Loss_1BurstLength8Packet_block3_pool.npy',\n",
       " 'C:\\\\Users\\\\hunnibha\\\\projectStuff\\\\code\\\\testData\\\\errorConceal\\\\noEC\\\\0.5\\\\0.5Loss_2BurstLength8Packet_block3_pool.npy',\n",
       " 'C:\\\\Users\\\\hunnibha\\\\projectStuff\\\\code\\\\testData\\\\errorConceal\\\\noEC\\\\0.5\\\\0.5Loss_3BurstLength8Packet_block3_pool.npy',\n",
       " 'C:\\\\Users\\\\hunnibha\\\\projectStuff\\\\code\\\\testData\\\\errorConceal\\\\noEC\\\\0.5\\\\0.5Loss_4BurstLength8Packet_block3_pool.npy',\n",
       " 'C:\\\\Users\\\\hunnibha\\\\projectStuff\\\\code\\\\testData\\\\errorConceal\\\\noEC\\\\0.5\\\\0.5Loss_5BurstLength8Packet_block3_pool.npy']"
      ]
     },
     "execution_count": 26,
     "metadata": {},
     "output_type": "execute_result"
    }
   ],
   "source": [
    "dirList = os.listdir(dir)\n",
    "dirList = [os.path.join(dir, i) for i in dirList]\n",
    "dirList"
   ]
  },
  {
   "cell_type": "code",
   "execution_count": 27,
   "metadata": {},
   "outputs": [
    {
     "data": {
      "text/plain": [
       "['C:\\\\Users\\\\hunnibha\\\\projectStuff\\\\code\\\\testData\\\\errorConceal\\\\EC\\\\0.5\\\\0.5Loss_1BurstLength8Packet_block3_poolEC.npy',\n",
       " 'C:\\\\Users\\\\hunnibha\\\\projectStuff\\\\code\\\\testData\\\\errorConceal\\\\EC\\\\0.5\\\\0.5Loss_2BurstLength8Packet_block3_poolEC.npy',\n",
       " 'C:\\\\Users\\\\hunnibha\\\\projectStuff\\\\code\\\\testData\\\\errorConceal\\\\EC\\\\0.5\\\\0.5Loss_3BurstLength8Packet_block3_poolEC.npy',\n",
       " 'C:\\\\Users\\\\hunnibha\\\\projectStuff\\\\code\\\\testData\\\\errorConceal\\\\EC\\\\0.5\\\\0.5Loss_4BurstLength8Packet_block3_poolEC.npy',\n",
       " 'C:\\\\Users\\\\hunnibha\\\\projectStuff\\\\code\\\\testData\\\\errorConceal\\\\EC\\\\0.5\\\\0.5Loss_5BurstLength8Packet_block3_poolEC.npy']"
      ]
     },
     "execution_count": 27,
     "metadata": {},
     "output_type": "execute_result"
    }
   ],
   "source": [
    "dirEcList = os.listdir(dirEc)\n",
    "dirEcList = [os.path.join(dirEc, i) for i in dirEcList]\n",
    "dirEcList"
   ]
  },
  {
   "cell_type": "code",
   "execution_count": 28,
   "metadata": {},
   "outputs": [
    {
     "data": {
      "text/plain": [
       "[0.35227272727272696,\n",
       " 0.3811363636363636,\n",
       " 0.3781818181818181,\n",
       " 0.36636363636363634,\n",
       " 0.38136363636363646]"
      ]
     },
     "execution_count": 28,
     "metadata": {},
     "output_type": "execute_result"
    }
   ],
   "source": [
    "bl = np.arange(1, 6, 1)\n",
    "pure = []\n",
    "for i in dirList:\n",
    "    a = np.load(i)\n",
    "    a = np.mean(a, axis=0)\n",
    "    pure.append(a[1])\n",
    "pure"
   ]
  },
  {
   "cell_type": "code",
   "execution_count": 29,
   "metadata": {},
   "outputs": [
    {
     "data": {
      "text/plain": [
       "[0.35227272727272696,\n",
       " 0.33977272727272734,\n",
       " 0.3368181818181818,\n",
       " 0.33590909090909093,\n",
       " 0.3379545454545454]"
      ]
     },
     "execution_count": 29,
     "metadata": {},
     "output_type": "execute_result"
    }
   ],
   "source": [
    "impure = []\n",
    "for i in dirEcList:\n",
    "    a = np.load(i)\n",
    "    a = np.mean(a, axis=0)\n",
    "    impure.append(a[1])\n",
    "impure"
   ]
  },
  {
   "cell_type": "code",
   "execution_count": 30,
   "metadata": {},
   "outputs": [
    {
     "data": {
      "image/png": "[encoded data removed]",
      "text/plain": [
       "<Figure size 432x288 with 1 Axes>"
      ]
     },
     "metadata": {},
     "output_type": "display_data"
    }
   ],
   "source": [
    "plt.plot(bl, pure, label='No error concealment')\n",
    "plt.plot(bl, impure, label='Error Concealment')\n",
    "plt.xlabel('Burst length')\n",
    "plt.ylabel('Classification accuracy')\n",
    "plt.title('50 percent loss')\n",
    "plt.legend(loc='right')\n",
    "plt.show()"
   ]
  },
  {
   "cell_type": "code",
   "execution_count": null,
   "metadata": {},
   "outputs": [],
   "source": []
  }
 ],
 "metadata": {
  "kernelspec": {
   "display_name": "kerasEnv",
   "language": "python",
   "name": "kerasenv"
  },
  "language_info": {
   "codemirror_mode": {
    "name": "ipython",
    "version": 3
   },
   "file_extension": ".py",
   "mimetype": "text/x-python",
   "name": "python",
   "nbconvert_exporter": "python",
   "pygments_lexer": "ipython3",
   "version": "3.6.4"
  }
 },
 "nbformat": 4,
 "nbformat_minor": 2
}
