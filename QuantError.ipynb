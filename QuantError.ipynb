{
 "cells": [
  {
   "cell_type": "markdown",
   "metadata": {},
   "source": [
    "# Specifications"
   ]
  },
  {
   "cell_type": "markdown",
   "metadata": {},
   "source": [
    "* Model : VGG16\n",
    "* Split Layer : block3_pool\n",
    "* Imagenet Class : 235\n",
    "* Number of Images in test : 88"
   ]
  },
  {
   "cell_type": "code",
   "execution_count": 1,
   "metadata": {},
   "outputs": [],
   "source": [
    "import os\n",
    "from matplotlib import pyplot as plt\n",
    "import numpy as np\n",
    "%matplotlib inline"
   ]
  },
  {
   "cell_type": "code",
   "execution_count": 42,
   "metadata": {},
   "outputs": [
    {
     "data": {
      "text/plain": [
       "array([0.2, 0.4, 0.6, 0.8, 1. ])"
      ]
     },
     "execution_count": 42,
     "metadata": {},
     "output_type": "execute_result"
    }
   ],
   "source": [
    "lossList = np.arange(0.2, 1.2, 0.2)\n",
    "lossList"
   ]
  },
  {
   "cell_type": "code",
   "execution_count": 2,
   "metadata": {},
   "outputs": [
    {
     "data": {
      "text/plain": [
       "['noquantError\\\\0Loss_1Packet_block3_pool.npy',\n",
       " 'noquantError\\\\0Loss_2Packet_block3_pool.npy',\n",
       " 'noquantError\\\\0Loss_3Packet_block3_pool.npy',\n",
       " 'noquantError\\\\0Loss_4Packet_block3_pool.npy',\n",
       " 'noquantError\\\\0Loss_5Packet_block3_pool.npy',\n",
       " 'noquantError\\\\1Loss_1Packet_block3_pool.npy',\n",
       " 'noquantError\\\\1Loss_2Packet_block3_pool.npy',\n",
       " 'noquantError\\\\1Loss_3Packet_block3_pool.npy',\n",
       " 'noquantError\\\\1Loss_4Packet_block3_pool.npy',\n",
       " 'noquantError\\\\1Loss_5Packet_block3_pool.npy',\n",
       " 'noquantError\\\\2Loss_1Packet_block3_pool.npy',\n",
       " 'noquantError\\\\2Loss_2Packet_block3_pool.npy',\n",
       " 'noquantError\\\\2Loss_3Packet_block3_pool.npy',\n",
       " 'noquantError\\\\2Loss_4Packet_block3_pool.npy',\n",
       " 'noquantError\\\\2Loss_5Packet_block3_pool.npy',\n",
       " 'noquantError\\\\3Loss_1Packet_block3_pool.npy',\n",
       " 'noquantError\\\\3Loss_2Packet_block3_pool.npy',\n",
       " 'noquantError\\\\3Loss_3Packet_block3_pool.npy',\n",
       " 'noquantError\\\\3Loss_4Packet_block3_pool.npy',\n",
       " 'noquantError\\\\3Loss_5Packet_block3_pool.npy',\n",
       " 'noquantError\\\\4Loss_1Packet_block3_pool.npy',\n",
       " 'noquantError\\\\4Loss_2Packet_block3_pool.npy',\n",
       " 'noquantError\\\\4Loss_3Packet_block3_pool.npy',\n",
       " 'noquantError\\\\4Loss_4Packet_block3_pool.npy',\n",
       " 'noquantError\\\\4Loss_5Packet_block3_pool.npy']"
      ]
     },
     "execution_count": 2,
     "metadata": {},
     "output_type": "execute_result"
    }
   ],
   "source": [
    "pureDir = 'noquantError'\n",
    "pureList = os.listdir(pureDir)\n",
    "pureList = [os.path.join(pureDir, i) for i in pureList]\n",
    "pureList"
   ]
  },
  {
   "cell_type": "markdown",
   "metadata": {},
   "source": [
    "## Test1: Compare the effect of quantization"
   ]
  },
  {
   "cell_type": "code",
   "execution_count": 3,
   "metadata": {},
   "outputs": [
    {
     "data": {
      "text/plain": [
       "100"
      ]
     },
     "execution_count": 3,
     "metadata": {},
     "output_type": "execute_result"
    }
   ],
   "source": [
    "quantDir = 'quantizationOnly'\n",
    "dirList = os.listdir(quantDir)\n",
    "len(dirList)"
   ]
  },
  {
   "cell_type": "code",
   "execution_count": 4,
   "metadata": {},
   "outputs": [],
   "source": [
    "t = dirList\n",
    "t = [i.split('_') for i in t]\n",
    "t.sort(key=lambda x:x[1])\n",
    "t = ['_'.join(i) for i in t]"
   ]
  },
  {
   "cell_type": "code",
   "execution_count": 5,
   "metadata": {},
   "outputs": [
    {
     "data": {
      "text/plain": [
       "100"
      ]
     },
     "execution_count": 5,
     "metadata": {},
     "output_type": "execute_result"
    }
   ],
   "source": [
    "t = [os.path.join(quantDir, i) for i in t]\n",
    "len(t)"
   ]
  },
  {
   "cell_type": "code",
   "execution_count": 6,
   "metadata": {},
   "outputs": [
    {
     "data": {
      "text/plain": [
       "['quantizationOnly\\\\0Loss_10Quantization_1Packet_block3_pool.npy',\n",
       " 'quantizationOnly\\\\0Loss_10Quantization_2Packet_block3_pool.npy',\n",
       " 'quantizationOnly\\\\0Loss_10Quantization_3Packet_block3_pool.npy',\n",
       " 'quantizationOnly\\\\0Loss_10Quantization_4Packet_block3_pool.npy',\n",
       " 'quantizationOnly\\\\0Loss_10Quantization_5Packet_block3_pool.npy',\n",
       " 'quantizationOnly\\\\1Loss_10Quantization_1Packet_block3_pool.npy',\n",
       " 'quantizationOnly\\\\1Loss_10Quantization_2Packet_block3_pool.npy',\n",
       " 'quantizationOnly\\\\1Loss_10Quantization_3Packet_block3_pool.npy',\n",
       " 'quantizationOnly\\\\1Loss_10Quantization_4Packet_block3_pool.npy',\n",
       " 'quantizationOnly\\\\1Loss_10Quantization_5Packet_block3_pool.npy',\n",
       " 'quantizationOnly\\\\2Loss_10Quantization_1Packet_block3_pool.npy',\n",
       " 'quantizationOnly\\\\2Loss_10Quantization_2Packet_block3_pool.npy',\n",
       " 'quantizationOnly\\\\2Loss_10Quantization_3Packet_block3_pool.npy',\n",
       " 'quantizationOnly\\\\2Loss_10Quantization_4Packet_block3_pool.npy',\n",
       " 'quantizationOnly\\\\2Loss_10Quantization_5Packet_block3_pool.npy',\n",
       " 'quantizationOnly\\\\3Loss_10Quantization_1Packet_block3_pool.npy',\n",
       " 'quantizationOnly\\\\3Loss_10Quantization_2Packet_block3_pool.npy',\n",
       " 'quantizationOnly\\\\3Loss_10Quantization_3Packet_block3_pool.npy',\n",
       " 'quantizationOnly\\\\3Loss_10Quantization_4Packet_block3_pool.npy',\n",
       " 'quantizationOnly\\\\3Loss_10Quantization_5Packet_block3_pool.npy',\n",
       " 'quantizationOnly\\\\4Loss_10Quantization_1Packet_block3_pool.npy',\n",
       " 'quantizationOnly\\\\4Loss_10Quantization_2Packet_block3_pool.npy',\n",
       " 'quantizationOnly\\\\4Loss_10Quantization_3Packet_block3_pool.npy',\n",
       " 'quantizationOnly\\\\4Loss_10Quantization_4Packet_block3_pool.npy',\n",
       " 'quantizationOnly\\\\4Loss_10Quantization_5Packet_block3_pool.npy']"
      ]
     },
     "execution_count": 6,
     "metadata": {},
     "output_type": "execute_result"
    }
   ],
   "source": [
    "#0: 10 bit quant\n",
    "#1: 4 bit quant\n",
    "#2: 6 bit quant\n",
    "#3: 8 bit quant\n",
    "l = 0\n",
    "quantTest = t[l*25:(l+1)*25]\n",
    "quantTest"
   ]
  },
  {
   "cell_type": "code",
   "execution_count": 33,
   "metadata": {},
   "outputs": [
    {
     "data": {
      "image/png": "[encoded data removed]",
      "text/plain": [
       "<Figure size 432x288 with 1 Axes>"
      ]
     },
     "metadata": {},
     "output_type": "display_data"
    }
   ],
   "source": [
    "aQuant = np.load(quantTest[-6])\n",
    "bQuant = np.load(pureList[-6])\n",
    "plt.plot(aQuant[:, 0], aQuant[:, 1], 'r', label='With Quant')\n",
    "plt.plot(bQuant[:, 0], bQuant[:, 1], 'b', label='No Quant')\n",
    "plt.xlabel('Epoch')\n",
    "plt.ylabel('Accuracy')\n",
    "plt.legend(loc='upper right')\n",
    "plt.show()"
   ]
  },
  {
   "cell_type": "code",
   "execution_count": 34,
   "metadata": {},
   "outputs": [
    {
     "data": {
      "text/plain": [
       "array([[0.        , 0.76136364],\n",
       "       [1.        , 0.78409091],\n",
       "       [2.        , 0.77272727],\n",
       "       [3.        , 0.73863636],\n",
       "       [4.        , 0.78409091]])"
      ]
     },
     "execution_count": 34,
     "metadata": {},
     "output_type": "execute_result"
    }
   ],
   "source": [
    "aQuant"
   ]
  },
  {
   "cell_type": "code",
   "execution_count": 35,
   "metadata": {},
   "outputs": [
    {
     "data": {
      "text/plain": [
       "array([[0.        , 0.77272727],\n",
       "       [1.        , 0.76136364],\n",
       "       [2.        , 0.73863636],\n",
       "       [3.        , 0.76136364],\n",
       "       [4.        , 0.79545455]])"
      ]
     },
     "execution_count": 35,
     "metadata": {},
     "output_type": "execute_result"
    }
   ],
   "source": [
    "bQuant"
   ]
  },
  {
   "cell_type": "markdown",
   "metadata": {},
   "source": [
    "## Effect of bilinear interpolation for error concealment"
   ]
  },
  {
   "cell_type": "code",
   "execution_count": 10,
   "metadata": {},
   "outputs": [
    {
     "data": {
      "text/plain": [
       "['errorConcealOnly\\\\0Loss_1Packet_block3_pool.npy',\n",
       " 'errorConcealOnly\\\\0Loss_2Packet_block3_pool.npy',\n",
       " 'errorConcealOnly\\\\0Loss_3Packet_block3_pool.npy',\n",
       " 'errorConcealOnly\\\\0Loss_4Packet_block3_pool.npy',\n",
       " 'errorConcealOnly\\\\0Loss_5Packet_block3_pool.npy',\n",
       " 'errorConcealOnly\\\\1Loss_1Packet_block3_pool.npy',\n",
       " 'errorConcealOnly\\\\1Loss_2Packet_block3_pool.npy',\n",
       " 'errorConcealOnly\\\\1Loss_3Packet_block3_pool.npy',\n",
       " 'errorConcealOnly\\\\1Loss_4Packet_block3_pool.npy',\n",
       " 'errorConcealOnly\\\\1Loss_5Packet_block3_pool.npy',\n",
       " 'errorConcealOnly\\\\2Loss_1Packet_block3_pool.npy',\n",
       " 'errorConcealOnly\\\\2Loss_2Packet_block3_pool.npy',\n",
       " 'errorConcealOnly\\\\2Loss_3Packet_block3_pool.npy',\n",
       " 'errorConcealOnly\\\\2Loss_4Packet_block3_pool.npy',\n",
       " 'errorConcealOnly\\\\2Loss_5Packet_block3_pool.npy',\n",
       " 'errorConcealOnly\\\\3Loss_1Packet_block3_pool.npy',\n",
       " 'errorConcealOnly\\\\3Loss_2Packet_block3_pool.npy',\n",
       " 'errorConcealOnly\\\\3Loss_3Packet_block3_pool.npy',\n",
       " 'errorConcealOnly\\\\3Loss_4Packet_block3_pool.npy',\n",
       " 'errorConcealOnly\\\\3Loss_5Packet_block3_pool.npy',\n",
       " 'errorConcealOnly\\\\4Loss_1Packet_block3_pool.npy',\n",
       " 'errorConcealOnly\\\\4Loss_2Packet_block3_pool.npy',\n",
       " 'errorConcealOnly\\\\4Loss_3Packet_block3_pool.npy',\n",
       " 'errorConcealOnly\\\\4Loss_4Packet_block3_pool.npy',\n",
       " 'errorConcealOnly\\\\4Loss_5Packet_block3_pool.npy']"
      ]
     },
     "execution_count": 10,
     "metadata": {},
     "output_type": "execute_result"
    }
   ],
   "source": [
    "errorDir  = 'errorConcealOnly'\n",
    "errorList = os.listdir(errorDir)\n",
    "errorList = [os.path.join(errorDir, i) for i in errorList]\n",
    "errorList"
   ]
  },
  {
   "cell_type": "code",
   "execution_count": 11,
   "metadata": {},
   "outputs": [
    {
     "data": {
      "image/png": "[encoded data removed]",
      "text/plain": [
       "<Figure size 432x288 with 1 Axes>"
      ]
     },
     "metadata": {},
     "output_type": "display_data"
    }
   ],
   "source": [
    "#the index for the list denotes the loss and packet configuration\n",
    "aError = np.load(errorList[-6])\n",
    "bError = np.load(pureList[-6])\n",
    "plt.plot(aError[:, 0], aError[:, 1], 'r', label='ELC')\n",
    "plt.plot(bError[:, 0], bError[:, 1], 'b', label='no ELC')\n",
    "plt.xlabel('Epoch')\n",
    "plt.ylabel('Accuracy')\n",
    "plt.legend(loc='upper right')\n",
    "plt.show()"
   ]
  },
  {
   "cell_type": "code",
   "execution_count": 12,
   "metadata": {},
   "outputs": [
    {
     "data": {
      "text/plain": [
       "array([[0.        , 0.78409091],\n",
       "       [1.        , 0.75      ],\n",
       "       [2.        , 0.77272727],\n",
       "       [3.        , 0.79545455],\n",
       "       [4.        , 0.77272727]])"
      ]
     },
     "execution_count": 12,
     "metadata": {},
     "output_type": "execute_result"
    }
   ],
   "source": [
    "aError"
   ]
  },
  {
   "cell_type": "code",
   "execution_count": 13,
   "metadata": {},
   "outputs": [
    {
     "data": {
      "text/plain": [
       "array([[0.        , 0.77272727],\n",
       "       [1.        , 0.76136364],\n",
       "       [2.        , 0.73863636],\n",
       "       [3.        , 0.76136364],\n",
       "       [4.        , 0.79545455]])"
      ]
     },
     "execution_count": 13,
     "metadata": {},
     "output_type": "execute_result"
    }
   ],
   "source": [
    "bError"
   ]
  },
  {
   "cell_type": "markdown",
   "metadata": {},
   "source": [
    "## Error Concealment and Quantization included:"
   ]
  },
  {
   "cell_type": "code",
   "execution_count": 14,
   "metadata": {},
   "outputs": [
    {
     "data": {
      "text/plain": [
       "['quantAndError\\\\0Loss_10Quantization_errorConceal_1Packet_block3_pool.npy',\n",
       " 'quantAndError\\\\0Loss_10Quantization_errorConceal_2Packet_block3_pool.npy',\n",
       " 'quantAndError\\\\0Loss_10Quantization_errorConceal_3Packet_block3_pool.npy',\n",
       " 'quantAndError\\\\0Loss_10Quantization_errorConceal_4Packet_block3_pool.npy',\n",
       " 'quantAndError\\\\0Loss_10Quantization_errorConceal_5Packet_block3_pool.npy',\n",
       " 'quantAndError\\\\1Loss_10Quantization_errorConceal_1Packet_block3_pool.npy',\n",
       " 'quantAndError\\\\1Loss_10Quantization_errorConceal_2Packet_block3_pool.npy',\n",
       " 'quantAndError\\\\1Loss_10Quantization_errorConceal_3Packet_block3_pool.npy',\n",
       " 'quantAndError\\\\1Loss_10Quantization_errorConceal_4Packet_block3_pool.npy',\n",
       " 'quantAndError\\\\1Loss_10Quantization_errorConceal_5Packet_block3_pool.npy',\n",
       " 'quantAndError\\\\2Loss_10Quantization_errorConceal_1Packet_block3_pool.npy',\n",
       " 'quantAndError\\\\2Loss_10Quantization_errorConceal_2Packet_block3_pool.npy',\n",
       " 'quantAndError\\\\2Loss_10Quantization_errorConceal_3Packet_block3_pool.npy',\n",
       " 'quantAndError\\\\2Loss_10Quantization_errorConceal_4Packet_block3_pool.npy',\n",
       " 'quantAndError\\\\2Loss_10Quantization_errorConceal_5Packet_block3_pool.npy',\n",
       " 'quantAndError\\\\3Loss_10Quantization_errorConceal_1Packet_block3_pool.npy',\n",
       " 'quantAndError\\\\3Loss_10Quantization_errorConceal_2Packet_block3_pool.npy',\n",
       " 'quantAndError\\\\3Loss_10Quantization_errorConceal_3Packet_block3_pool.npy',\n",
       " 'quantAndError\\\\3Loss_10Quantization_errorConceal_4Packet_block3_pool.npy',\n",
       " 'quantAndError\\\\3Loss_10Quantization_errorConceal_5Packet_block3_pool.npy',\n",
       " 'quantAndError\\\\4Loss_10Quantization_errorConceal_1Packet_block3_pool.npy',\n",
       " 'quantAndError\\\\4Loss_10Quantization_errorConceal_2Packet_block3_pool.npy',\n",
       " 'quantAndError\\\\4Loss_10Quantization_errorConceal_3Packet_block3_pool.npy',\n",
       " 'quantAndError\\\\4Loss_10Quantization_errorConceal_4Packet_block3_pool.npy',\n",
       " 'quantAndError\\\\4Loss_10Quantization_errorConceal_5Packet_block3_pool.npy']"
      ]
     },
     "execution_count": 14,
     "metadata": {},
     "output_type": "execute_result"
    }
   ],
   "source": [
    "errorQuantDir = 'quantAndError'\n",
    "errorQuantList = os.listdir(errorQuantDir)\n",
    "errorQuantList = [os.path.join(errorQuantDir, i) for i in errorQuantList]\n",
    "errorQuantList"
   ]
  },
  {
   "cell_type": "code",
   "execution_count": 43,
   "metadata": {},
   "outputs": [
    {
     "data": {
      "image/png": "[encoded data removed]",
      "text/plain": [
       "<Figure size 432x288 with 1 Axes>"
      ]
     },
     "metadata": {},
     "output_type": "display_data"
    }
   ],
   "source": [
    "aErrorQuant = np.load(errorQuantList[12])\n",
    "bErrorQuant = np.load(pureList[12])\n",
    "plt.plot(aErrorQuant[:, 0], aErrorQuant[:, 1], 'r', label='quantElc')\n",
    "plt.plot(bErrorQuant[:, 0], bErrorQuant[:, 1], 'b', label='no quantELC')\n",
    "plt.xlabel('Epoch')\n",
    "plt.ylabel('Accuracy')\n",
    "plt.legend(loc='upper right')\n",
    "plt.show()"
   ]
  },
  {
   "cell_type": "code",
   "execution_count": 44,
   "metadata": {},
   "outputs": [
    {
     "data": {
      "text/plain": [
       "array([[0.        , 0.70454545],\n",
       "       [1.        , 0.        ],\n",
       "       [2.        , 0.        ],\n",
       "       [3.        , 0.65909091],\n",
       "       [4.        , 0.69318182]])"
      ]
     },
     "execution_count": 44,
     "metadata": {},
     "output_type": "execute_result"
    }
   ],
   "source": [
    "aErrorQuant"
   ]
  },
  {
   "cell_type": "code",
   "execution_count": 45,
   "metadata": {},
   "outputs": [
    {
     "data": {
      "text/plain": [
       "array([[0.        , 0.76136364],\n",
       "       [1.        , 0.71590909],\n",
       "       [2.        , 0.75      ],\n",
       "       [3.        , 0.75      ],\n",
       "       [4.        , 0.71590909]])"
      ]
     },
     "execution_count": 45,
     "metadata": {},
     "output_type": "execute_result"
    }
   ],
   "source": [
    "bErrorQuant"
   ]
  },
  {
   "cell_type": "code",
   "execution_count": null,
   "metadata": {},
   "outputs": [],
   "source": []
  }
 ],
 "metadata": {
  "kernelspec": {
   "display_name": "kerasEnv",
   "language": "python",
   "name": "kerasenv"
  },
  "language_info": {
   "codemirror_mode": {
    "name": "ipython",
    "version": 3
   },
   "file_extension": ".py",
   "mimetype": "text/x-python",
   "name": "python",
   "nbconvert_exporter": "python",
   "pygments_lexer": "ipython3",
   "version": "3.6.4"
  }
 },
 "nbformat": 4,
 "nbformat_minor": 2
}
