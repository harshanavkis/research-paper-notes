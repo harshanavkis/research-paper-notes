{
 "cells": [
  {
   "cell_type": "code",
   "execution_count": 3,
   "metadata": {},
   "outputs": [],
   "source": [
    "import numpy as np\n",
    "import os\n",
    "from matplotlib import pyplot as plt\n",
    "%matplotlib inline"
   ]
  },
  {
   "cell_type": "markdown",
   "metadata": {},
   "source": [
    "# block1_pool"
   ]
  },
  {
   "cell_type": "markdown",
   "metadata": {},
   "source": [
    "## 10 percent loss"
   ]
  },
  {
   "cell_type": "code",
   "execution_count": 2,
   "metadata": {},
   "outputs": [],
   "source": [
    "nnDir = 'C:\\\\Users\\\\hunnibha\\\\projectStuff\\\\code\\\\testData\\\\errorConceal\\\\NN\\\\block1_pool\\\\EC\\\\0.1'\n",
    "linDir = 'C:\\\\Users\\\\hunnibha\\\\projectStuff\\\\code\\\\testData\\\\errorConceal\\\\linear\\\\block1_pool\\\\EC\\\\0.1'\n",
    "pureDir = 'C:\\\\Users\\\\hunnibha\\\\projectStuff\\\\code\\\\testData\\\\errorConceal\\\\linear\\\\block1_pool\\\\noEC\\\\0.1'"
   ]
  },
  {
   "cell_type": "code",
   "execution_count": 5,
   "metadata": {},
   "outputs": [
    {
     "data": {
      "text/plain": [
       "['C:\\\\Users\\\\hunnibha\\\\projectStuff\\\\code\\\\testData\\\\errorConceal\\\\NN\\\\block1_pool\\\\EC\\\\0.1\\\\0.1Loss_1BurstLength8Packet_block1_poolEC.npy',\n",
       " 'C:\\\\Users\\\\hunnibha\\\\projectStuff\\\\code\\\\testData\\\\errorConceal\\\\NN\\\\block1_pool\\\\EC\\\\0.1\\\\0.1Loss_2BurstLength8Packet_block1_poolEC.npy',\n",
       " 'C:\\\\Users\\\\hunnibha\\\\projectStuff\\\\code\\\\testData\\\\errorConceal\\\\NN\\\\block1_pool\\\\EC\\\\0.1\\\\0.1Loss_3BurstLength8Packet_block1_poolEC.npy',\n",
       " 'C:\\\\Users\\\\hunnibha\\\\projectStuff\\\\code\\\\testData\\\\errorConceal\\\\NN\\\\block1_pool\\\\EC\\\\0.1\\\\0.1Loss_4BurstLength8Packet_block1_poolEC.npy',\n",
       " 'C:\\\\Users\\\\hunnibha\\\\projectStuff\\\\code\\\\testData\\\\errorConceal\\\\NN\\\\block1_pool\\\\EC\\\\0.1\\\\0.1Loss_5BurstLength8Packet_block1_poolEC.npy']"
      ]
     },
     "execution_count": 5,
     "metadata": {},
     "output_type": "execute_result"
    }
   ],
   "source": [
    "nnList = os.listdir(nnDir)\n",
    "nnList = [os.path.join(nnDir, i) for i in nnList]\n",
    "nnList"
   ]
  },
  {
   "cell_type": "code",
   "execution_count": 6,
   "metadata": {},
   "outputs": [
    {
     "data": {
      "text/plain": [
       "['C:\\\\Users\\\\hunnibha\\\\projectStuff\\\\code\\\\testData\\\\errorConceal\\\\linear\\\\block1_pool\\\\EC\\\\0.1\\\\0.1Loss_1BurstLength8Packet_block1_poolEC.npy',\n",
       " 'C:\\\\Users\\\\hunnibha\\\\projectStuff\\\\code\\\\testData\\\\errorConceal\\\\linear\\\\block1_pool\\\\EC\\\\0.1\\\\0.1Loss_2BurstLength8Packet_block1_poolEC.npy',\n",
       " 'C:\\\\Users\\\\hunnibha\\\\projectStuff\\\\code\\\\testData\\\\errorConceal\\\\linear\\\\block1_pool\\\\EC\\\\0.1\\\\0.1Loss_3BurstLength8Packet_block1_poolEC.npy',\n",
       " 'C:\\\\Users\\\\hunnibha\\\\projectStuff\\\\code\\\\testData\\\\errorConceal\\\\linear\\\\block1_pool\\\\EC\\\\0.1\\\\0.1Loss_4BurstLength8Packet_block1_poolEC.npy',\n",
       " 'C:\\\\Users\\\\hunnibha\\\\projectStuff\\\\code\\\\testData\\\\errorConceal\\\\linear\\\\block1_pool\\\\EC\\\\0.1\\\\0.1Loss_5BurstLength8Packet_block1_poolEC.npy']"
      ]
     },
     "execution_count": 6,
     "metadata": {},
     "output_type": "execute_result"
    }
   ],
   "source": [
    "linList = os.listdir(linDir)\n",
    "linList = [os.path.join(linDir, i) for i in linList]\n",
    "linList"
   ]
  },
  {
   "cell_type": "code",
   "execution_count": 7,
   "metadata": {},
   "outputs": [
    {
     "data": {
      "text/plain": [
       "['C:\\\\Users\\\\hunnibha\\\\projectStuff\\\\code\\\\testData\\\\errorConceal\\\\linear\\\\block1_pool\\\\noEC\\\\0.1\\\\0.1Loss_1BurstLength8Packet_block1_pool.npy',\n",
       " 'C:\\\\Users\\\\hunnibha\\\\projectStuff\\\\code\\\\testData\\\\errorConceal\\\\linear\\\\block1_pool\\\\noEC\\\\0.1\\\\0.1Loss_2BurstLength8Packet_block1_pool.npy',\n",
       " 'C:\\\\Users\\\\hunnibha\\\\projectStuff\\\\code\\\\testData\\\\errorConceal\\\\linear\\\\block1_pool\\\\noEC\\\\0.1\\\\0.1Loss_3BurstLength8Packet_block1_pool.npy',\n",
       " 'C:\\\\Users\\\\hunnibha\\\\projectStuff\\\\code\\\\testData\\\\errorConceal\\\\linear\\\\block1_pool\\\\noEC\\\\0.1\\\\0.1Loss_4BurstLength8Packet_block1_pool.npy',\n",
       " 'C:\\\\Users\\\\hunnibha\\\\projectStuff\\\\code\\\\testData\\\\errorConceal\\\\linear\\\\block1_pool\\\\noEC\\\\0.1\\\\0.1Loss_5BurstLength8Packet_block1_pool.npy']"
      ]
     },
     "execution_count": 7,
     "metadata": {},
     "output_type": "execute_result"
    }
   ],
   "source": [
    "pureList = os.listdir(pureDir)\n",
    "pureList = [os.path.join(pureDir, i) for i in pureList]\n",
    "pureList"
   ]
  },
  {
   "cell_type": "code",
   "execution_count": 8,
   "metadata": {},
   "outputs": [
    {
     "name": "stdout",
     "output_type": "stream",
     "text": [
      "[0.77909091 0.77681818 0.77977273 0.77181818 0.77454545]\n",
      "[0.0174808  0.01965088 0.01668405 0.0193969  0.01780287]\n"
     ]
    }
   ],
   "source": [
    "bl = np.arange(1, 6, 1)\n",
    "nnMean = []\n",
    "nnStd = []\n",
    "for i in nnList:\n",
    "    a = np.load(i)\n",
    "    b = a\n",
    "    a = np.mean(a, axis=0)\n",
    "    b = np.std(b, axis=0)\n",
    "    nnMean.append(a[1])\n",
    "    nnStd.append(b[1])\n",
    "nnMean = np.array(nnMean)\n",
    "nnStd = np.array(nnStd)\n",
    "print(nnMean)\n",
    "print(nnStd)"
   ]
  },
  {
   "cell_type": "code",
   "execution_count": 9,
   "metadata": {},
   "outputs": [
    {
     "name": "stdout",
     "output_type": "stream",
     "text": [
      "[0.76863636 0.77045455 0.77159091 0.76818182 0.76886364]\n",
      "[0.01587008 0.01803921 0.01945141 0.02132007 0.01826826]\n"
     ]
    }
   ],
   "source": [
    "linMean = []\n",
    "linStd = []\n",
    "for i in linList:\n",
    "    a = np.load(i)\n",
    "    b = a\n",
    "    a = np.mean(a, axis=0)\n",
    "    b = np.std(b, axis=0)\n",
    "    linMean.append(a[1])\n",
    "    linStd.append(b[1])\n",
    "linMean = np.array(linMean)\n",
    "linStd = np.array(linStd)\n",
    "print(linMean)\n",
    "print(linStd)"
   ]
  },
  {
   "cell_type": "code",
   "execution_count": 10,
   "metadata": {},
   "outputs": [
    {
     "name": "stdout",
     "output_type": "stream",
     "text": [
      "[0.78204545 0.77522727 0.77772727 0.78090909 0.77272727]\n",
      "[0.02066683 0.02218559 0.02417652 0.02510721 0.02070553]\n"
     ]
    }
   ],
   "source": [
    "pureMean = []\n",
    "pureStd = []\n",
    "for i in pureList:\n",
    "    a = np.load(i)\n",
    "    b = a\n",
    "    a = np.mean(a, axis=0)\n",
    "    b = np.std(b, axis=0)\n",
    "    pureMean.append(a[1])\n",
    "    pureStd.append(b[1])\n",
    "pureMean = np.array(pureMean)\n",
    "pureStd = np.array(pureStd)\n",
    "print(pureMean)\n",
    "print(pureStd)"
   ]
  },
  {
   "cell_type": "code",
   "execution_count": 15,
   "metadata": {},
   "outputs": [
    {
     "data": {
      "text/plain": [
       "<matplotlib.legend.Legend at 0x755cfd0>"
      ]
     },
     "execution_count": 15,
     "metadata": {},
     "output_type": "execute_result"
    },
    {
     "data": {
      "image/png": "[encoded data removed]",
      "text/plain": [
       "<Figure size 432x288 with 1 Axes>"
      ]
     },
     "metadata": {},
     "output_type": "display_data"
    }
   ],
   "source": [
    "plt.plot(bl, pureMean, label='Non EC')\n",
    "plt.fill_between(bl, pureMean-pureStd, pureMean+pureStd, alpha=0.7)\n",
    "\n",
    "plt.plot(bl, nnMean, label='NN EC')\n",
    "plt.fill_between(bl, nnMean-nnStd, nnMean+nnStd, alpha=0.5)\n",
    "\n",
    "plt.plot(bl, linMean, label='linear EC')\n",
    "plt.fill_between(bl, linMean-linStd, linMean+linStd, alpha=0.3)\n",
    "\n",
    "plt.xlim([1, 5])\n",
    "plt.ylim([0.7, 1])\n",
    "\n",
    "plt.xlabel('Burst length')\n",
    "plt.ylabel('Classification accuracy')\n",
    "plt.title('10 percent loss')\n",
    "plt.legend(loc='lower right')"
   ]
  },
  {
   "cell_type": "markdown",
   "metadata": {},
   "source": [
    "### 30 percent loss"
   ]
  },
  {
   "cell_type": "code",
   "execution_count": 16,
   "metadata": {},
   "outputs": [],
   "source": [
    "nnDir = 'C:\\\\Users\\\\hunnibha\\\\projectStuff\\\\code\\\\testData\\\\errorConceal\\\\NN\\\\block1_pool\\\\EC\\\\0.3'\n",
    "linDir = 'C:\\\\Users\\\\hunnibha\\\\projectStuff\\\\code\\\\testData\\\\errorConceal\\\\linear\\\\block1_pool\\\\EC\\\\0.3'\n",
    "pureDir = 'C:\\\\Users\\\\hunnibha\\\\projectStuff\\\\code\\\\testData\\\\errorConceal\\\\linear\\\\block1_pool\\\\noEC\\\\0.3'"
   ]
  },
  {
   "cell_type": "code",
   "execution_count": 17,
   "metadata": {},
   "outputs": [
    {
     "data": {
      "text/plain": [
       "['C:\\\\Users\\\\hunnibha\\\\projectStuff\\\\code\\\\testData\\\\errorConceal\\\\NN\\\\block1_pool\\\\EC\\\\0.3\\\\0.3Loss_1BurstLength8Packet_block1_poolEC.npy',\n",
       " 'C:\\\\Users\\\\hunnibha\\\\projectStuff\\\\code\\\\testData\\\\errorConceal\\\\NN\\\\block1_pool\\\\EC\\\\0.3\\\\0.3Loss_2BurstLength8Packet_block1_poolEC.npy',\n",
       " 'C:\\\\Users\\\\hunnibha\\\\projectStuff\\\\code\\\\testData\\\\errorConceal\\\\NN\\\\block1_pool\\\\EC\\\\0.3\\\\0.3Loss_3BurstLength8Packet_block1_poolEC.npy',\n",
       " 'C:\\\\Users\\\\hunnibha\\\\projectStuff\\\\code\\\\testData\\\\errorConceal\\\\NN\\\\block1_pool\\\\EC\\\\0.3\\\\0.3Loss_4BurstLength8Packet_block1_poolEC.npy',\n",
       " 'C:\\\\Users\\\\hunnibha\\\\projectStuff\\\\code\\\\testData\\\\errorConceal\\\\NN\\\\block1_pool\\\\EC\\\\0.3\\\\0.3Loss_5BurstLength8Packet_block1_poolEC.npy']"
      ]
     },
     "execution_count": 17,
     "metadata": {},
     "output_type": "execute_result"
    }
   ],
   "source": [
    "nnList = os.listdir(nnDir)\n",
    "nnList = [os.path.join(nnDir, i) for i in nnList]\n",
    "nnList"
   ]
  },
  {
   "cell_type": "code",
   "execution_count": 18,
   "metadata": {},
   "outputs": [
    {
     "data": {
      "text/plain": [
       "['C:\\\\Users\\\\hunnibha\\\\projectStuff\\\\code\\\\testData\\\\errorConceal\\\\linear\\\\block1_pool\\\\EC\\\\0.3\\\\0.3Loss_1BurstLength8Packet_block1_poolEC.npy',\n",
       " 'C:\\\\Users\\\\hunnibha\\\\projectStuff\\\\code\\\\testData\\\\errorConceal\\\\linear\\\\block1_pool\\\\EC\\\\0.3\\\\0.3Loss_2BurstLength8Packet_block1_poolEC.npy',\n",
       " 'C:\\\\Users\\\\hunnibha\\\\projectStuff\\\\code\\\\testData\\\\errorConceal\\\\linear\\\\block1_pool\\\\EC\\\\0.3\\\\0.3Loss_3BurstLength8Packet_block1_poolEC.npy',\n",
       " 'C:\\\\Users\\\\hunnibha\\\\projectStuff\\\\code\\\\testData\\\\errorConceal\\\\linear\\\\block1_pool\\\\EC\\\\0.3\\\\0.3Loss_4BurstLength8Packet_block1_poolEC.npy',\n",
       " 'C:\\\\Users\\\\hunnibha\\\\projectStuff\\\\code\\\\testData\\\\errorConceal\\\\linear\\\\block1_pool\\\\EC\\\\0.3\\\\0.3Loss_5BurstLength8Packet_block1_poolEC.npy']"
      ]
     },
     "execution_count": 18,
     "metadata": {},
     "output_type": "execute_result"
    }
   ],
   "source": [
    "linList = os.listdir(linDir)\n",
    "linList = [os.path.join(linDir, i) for i in linList]\n",
    "linList"
   ]
  },
  {
   "cell_type": "code",
   "execution_count": 19,
   "metadata": {},
   "outputs": [
    {
     "data": {
      "text/plain": [
       "['C:\\\\Users\\\\hunnibha\\\\projectStuff\\\\code\\\\testData\\\\errorConceal\\\\linear\\\\block1_pool\\\\noEC\\\\0.3\\\\0.3Loss_1BurstLength8Packet_block1_pool.npy',\n",
       " 'C:\\\\Users\\\\hunnibha\\\\projectStuff\\\\code\\\\testData\\\\errorConceal\\\\linear\\\\block1_pool\\\\noEC\\\\0.3\\\\0.3Loss_2BurstLength8Packet_block1_pool.npy',\n",
       " 'C:\\\\Users\\\\hunnibha\\\\projectStuff\\\\code\\\\testData\\\\errorConceal\\\\linear\\\\block1_pool\\\\noEC\\\\0.3\\\\0.3Loss_3BurstLength8Packet_block1_pool.npy',\n",
       " 'C:\\\\Users\\\\hunnibha\\\\projectStuff\\\\code\\\\testData\\\\errorConceal\\\\linear\\\\block1_pool\\\\noEC\\\\0.3\\\\0.3Loss_4BurstLength8Packet_block1_pool.npy',\n",
       " 'C:\\\\Users\\\\hunnibha\\\\projectStuff\\\\code\\\\testData\\\\errorConceal\\\\linear\\\\block1_pool\\\\noEC\\\\0.3\\\\0.3Loss_5BurstLength8Packet_block1_pool.npy']"
      ]
     },
     "execution_count": 19,
     "metadata": {},
     "output_type": "execute_result"
    }
   ],
   "source": [
    "pureList = os.listdir(pureDir)\n",
    "pureList = [os.path.join(pureDir, i) for i in pureList]\n",
    "pureList"
   ]
  },
  {
   "cell_type": "code",
   "execution_count": 20,
   "metadata": {},
   "outputs": [
    {
     "name": "stdout",
     "output_type": "stream",
     "text": [
      "[0.69977273 0.69181818 0.69340909 0.68863636 0.68295455]\n",
      "[0.02307574 0.02163751 0.02712936 0.02838635 0.02859033]\n"
     ]
    }
   ],
   "source": [
    "bl = np.arange(1, 6, 1)\n",
    "nnMean = []\n",
    "nnStd = []\n",
    "for i in nnList:\n",
    "    a = np.load(i)\n",
    "    b = a\n",
    "    a = np.mean(a, axis=0)\n",
    "    b = np.std(b, axis=0)\n",
    "    nnMean.append(a[1])\n",
    "    nnStd.append(b[1])\n",
    "nnMean = np.array(nnMean)\n",
    "nnStd = np.array(nnStd)\n",
    "print(nnMean)\n",
    "print(nnStd)"
   ]
  },
  {
   "cell_type": "code",
   "execution_count": 21,
   "metadata": {},
   "outputs": [
    {
     "name": "stdout",
     "output_type": "stream",
     "text": [
      "[0.69431818 0.69318182 0.69022727 0.68613636 0.68363636]\n",
      "[0.02652868 0.02306566 0.02508354 0.02944827 0.02975103]\n"
     ]
    }
   ],
   "source": [
    "linMean = []\n",
    "linStd = []\n",
    "for i in linList:\n",
    "    a = np.load(i)\n",
    "    b = a\n",
    "    a = np.mean(a, axis=0)\n",
    "    b = np.std(b, axis=0)\n",
    "    linMean.append(a[1])\n",
    "    linStd.append(b[1])\n",
    "linMean = np.array(linMean)\n",
    "linStd = np.array(linStd)\n",
    "print(linMean)\n",
    "print(linStd)"
   ]
  },
  {
   "cell_type": "code",
   "execution_count": 22,
   "metadata": {},
   "outputs": [
    {
     "name": "stdout",
     "output_type": "stream",
     "text": [
      "[0.65590909 0.64545455 0.63318182 0.62568182 0.61045455]\n",
      "[0.03222468 0.03542831 0.03755437 0.03716517 0.03823589]\n"
     ]
    }
   ],
   "source": [
    "pureMean = []\n",
    "pureStd = []\n",
    "for i in pureList:\n",
    "    a = np.load(i)\n",
    "    b = a\n",
    "    a = np.mean(a, axis=0)\n",
    "    b = np.std(b, axis=0)\n",
    "    pureMean.append(a[1])\n",
    "    pureStd.append(b[1])\n",
    "pureMean = np.array(pureMean)\n",
    "pureStd = np.array(pureStd)\n",
    "print(pureMean)\n",
    "print(pureStd)"
   ]
  },
  {
   "cell_type": "code",
   "execution_count": 24,
   "metadata": {},
   "outputs": [
    {
     "data": {
      "text/plain": [
       "<matplotlib.legend.Legend at 0x7630198>"
      ]
     },
     "execution_count": 24,
     "metadata": {},
     "output_type": "execute_result"
    },
    {
     "data": {
      "image/png": "[encoded data removed]",
      "text/plain": [
       "<Figure size 432x288 with 1 Axes>"
      ]
     },
     "metadata": {},
     "output_type": "display_data"
    }
   ],
   "source": [
    "plt.plot(bl, pureMean, label='Non EC')\n",
    "plt.fill_between(bl, pureMean-pureStd, pureMean+pureStd, alpha=0.7)\n",
    "\n",
    "plt.plot(bl, nnMean, label='NN EC')\n",
    "plt.fill_between(bl, nnMean-nnStd, nnMean+nnStd, alpha=0.5)\n",
    "\n",
    "plt.plot(bl, linMean, label='linear EC')\n",
    "plt.fill_between(bl, linMean-linStd, linMean+linStd, alpha=0.3)\n",
    "\n",
    "plt.xlim([1, 5])\n",
    "plt.ylim([0.5, 0.8])\n",
    "\n",
    "plt.xlabel('Burst length')\n",
    "plt.ylabel('Classification accuracy')\n",
    "plt.title('30 percent loss')\n",
    "plt.legend(loc='lower right')"
   ]
  },
  {
   "cell_type": "markdown",
   "metadata": {},
   "source": [
    "### 50 percent loss"
   ]
  },
  {
   "cell_type": "code",
   "execution_count": 25,
   "metadata": {},
   "outputs": [],
   "source": [
    "nnDir = 'C:\\\\Users\\\\hunnibha\\\\projectStuff\\\\code\\\\testData\\\\errorConceal\\\\NN\\\\block1_pool\\\\EC\\\\0.5'\n",
    "linDir = 'C:\\\\Users\\\\hunnibha\\\\projectStuff\\\\code\\\\testData\\\\errorConceal\\\\linear\\\\block1_pool\\\\EC\\\\0.5'\n",
    "pureDir = 'C:\\\\Users\\\\hunnibha\\\\projectStuff\\\\code\\\\testData\\\\errorConceal\\\\linear\\\\block1_pool\\\\noEC\\\\0.5'"
   ]
  },
  {
   "cell_type": "code",
   "execution_count": 26,
   "metadata": {},
   "outputs": [
    {
     "data": {
      "text/plain": [
       "['C:\\\\Users\\\\hunnibha\\\\projectStuff\\\\code\\\\testData\\\\errorConceal\\\\NN\\\\block1_pool\\\\EC\\\\0.5\\\\0.5Loss_1BurstLength8Packet_block1_poolEC.npy',\n",
       " 'C:\\\\Users\\\\hunnibha\\\\projectStuff\\\\code\\\\testData\\\\errorConceal\\\\NN\\\\block1_pool\\\\EC\\\\0.5\\\\0.5Loss_2BurstLength8Packet_block1_poolEC.npy',\n",
       " 'C:\\\\Users\\\\hunnibha\\\\projectStuff\\\\code\\\\testData\\\\errorConceal\\\\NN\\\\block1_pool\\\\EC\\\\0.5\\\\0.5Loss_3BurstLength8Packet_block1_poolEC.npy',\n",
       " 'C:\\\\Users\\\\hunnibha\\\\projectStuff\\\\code\\\\testData\\\\errorConceal\\\\NN\\\\block1_pool\\\\EC\\\\0.5\\\\0.5Loss_4BurstLength8Packet_block1_poolEC.npy',\n",
       " 'C:\\\\Users\\\\hunnibha\\\\projectStuff\\\\code\\\\testData\\\\errorConceal\\\\NN\\\\block1_pool\\\\EC\\\\0.5\\\\0.5Loss_5BurstLength8Packet_block1_poolEC.npy']"
      ]
     },
     "execution_count": 26,
     "metadata": {},
     "output_type": "execute_result"
    }
   ],
   "source": [
    "nnList = os.listdir(nnDir)\n",
    "nnList = [os.path.join(nnDir, i) for i in nnList]\n",
    "nnList"
   ]
  },
  {
   "cell_type": "code",
   "execution_count": 27,
   "metadata": {},
   "outputs": [
    {
     "data": {
      "text/plain": [
       "['C:\\\\Users\\\\hunnibha\\\\projectStuff\\\\code\\\\testData\\\\errorConceal\\\\linear\\\\block1_pool\\\\EC\\\\0.5\\\\0.5Loss_1BurstLength8Packet_block1_poolEC.npy',\n",
       " 'C:\\\\Users\\\\hunnibha\\\\projectStuff\\\\code\\\\testData\\\\errorConceal\\\\linear\\\\block1_pool\\\\EC\\\\0.5\\\\0.5Loss_2BurstLength8Packet_block1_poolEC.npy',\n",
       " 'C:\\\\Users\\\\hunnibha\\\\projectStuff\\\\code\\\\testData\\\\errorConceal\\\\linear\\\\block1_pool\\\\EC\\\\0.5\\\\0.5Loss_3BurstLength8Packet_block1_poolEC.npy',\n",
       " 'C:\\\\Users\\\\hunnibha\\\\projectStuff\\\\code\\\\testData\\\\errorConceal\\\\linear\\\\block1_pool\\\\EC\\\\0.5\\\\0.5Loss_4BurstLength8Packet_block1_poolEC.npy',\n",
       " 'C:\\\\Users\\\\hunnibha\\\\projectStuff\\\\code\\\\testData\\\\errorConceal\\\\linear\\\\block1_pool\\\\EC\\\\0.5\\\\0.5Loss_5BurstLength8Packet_block1_poolEC.npy']"
      ]
     },
     "execution_count": 27,
     "metadata": {},
     "output_type": "execute_result"
    }
   ],
   "source": [
    "linList = os.listdir(linDir)\n",
    "linList = [os.path.join(linDir, i) for i in linList]\n",
    "linList"
   ]
  },
  {
   "cell_type": "code",
   "execution_count": 28,
   "metadata": {},
   "outputs": [
    {
     "data": {
      "text/plain": [
       "['C:\\\\Users\\\\hunnibha\\\\projectStuff\\\\code\\\\testData\\\\errorConceal\\\\linear\\\\block1_pool\\\\noEC\\\\0.5\\\\0.5Loss_1BurstLength8Packet_block1_pool.npy',\n",
       " 'C:\\\\Users\\\\hunnibha\\\\projectStuff\\\\code\\\\testData\\\\errorConceal\\\\linear\\\\block1_pool\\\\noEC\\\\0.5\\\\0.5Loss_2BurstLength8Packet_block1_pool.npy',\n",
       " 'C:\\\\Users\\\\hunnibha\\\\projectStuff\\\\code\\\\testData\\\\errorConceal\\\\linear\\\\block1_pool\\\\noEC\\\\0.5\\\\0.5Loss_3BurstLength8Packet_block1_pool.npy',\n",
       " 'C:\\\\Users\\\\hunnibha\\\\projectStuff\\\\code\\\\testData\\\\errorConceal\\\\linear\\\\block1_pool\\\\noEC\\\\0.5\\\\0.5Loss_4BurstLength8Packet_block1_pool.npy',\n",
       " 'C:\\\\Users\\\\hunnibha\\\\projectStuff\\\\code\\\\testData\\\\errorConceal\\\\linear\\\\block1_pool\\\\noEC\\\\0.5\\\\0.5Loss_5BurstLength8Packet_block1_pool.npy']"
      ]
     },
     "execution_count": 28,
     "metadata": {},
     "output_type": "execute_result"
    }
   ],
   "source": [
    "pureList = os.listdir(pureDir)\n",
    "pureList = [os.path.join(pureDir, i) for i in pureList]\n",
    "pureList"
   ]
  },
  {
   "cell_type": "code",
   "execution_count": 29,
   "metadata": {},
   "outputs": [
    {
     "name": "stdout",
     "output_type": "stream",
     "text": [
      "[0.15909091 0.2775     0.29681818 0.29272727 0.29590909]\n",
      "[5.55111512e-17 3.10865560e-02 2.59767856e-02 3.43595476e-02\n",
      " 3.14885523e-02]\n"
     ]
    }
   ],
   "source": [
    "bl = np.arange(1, 6, 1)\n",
    "nnMean = []\n",
    "nnStd = []\n",
    "for i in nnList:\n",
    "    a = np.load(i)\n",
    "    b = a\n",
    "    a = np.mean(a, axis=0)\n",
    "    b = np.std(b, axis=0)\n",
    "    nnMean.append(a[1])\n",
    "    nnStd.append(b[1])\n",
    "nnMean = np.array(nnMean)\n",
    "nnStd = np.array(nnStd)\n",
    "print(nnMean)\n",
    "print(nnStd)"
   ]
  },
  {
   "cell_type": "code",
   "execution_count": 30,
   "metadata": {},
   "outputs": [
    {
     "name": "stdout",
     "output_type": "stream",
     "text": [
      "[0.15909091 0.31886364 0.32431818 0.315      0.32113636]\n",
      "[5.55111512e-17 3.12787058e-02 2.76685294e-02 2.85713548e-02\n",
      " 3.67739633e-02]\n"
     ]
    }
   ],
   "source": [
    "linMean = []\n",
    "linStd = []\n",
    "for i in linList:\n",
    "    a = np.load(i)\n",
    "    b = a\n",
    "    a = np.mean(a, axis=0)\n",
    "    b = np.std(b, axis=0)\n",
    "    linMean.append(a[1])\n",
    "    linStd.append(b[1])\n",
    "linMean = np.array(linMean)\n",
    "linStd = np.array(linStd)\n",
    "print(linMean)\n",
    "print(linStd)"
   ]
  },
  {
   "cell_type": "code",
   "execution_count": 31,
   "metadata": {},
   "outputs": [
    {
     "name": "stdout",
     "output_type": "stream",
     "text": [
      "[0.15909091 0.20909091 0.22159091 0.20909091 0.21590909]\n",
      "[5.55111512e-17 2.93701091e-02 3.38819353e-02 3.12448343e-02\n",
      " 4.53407667e-02]\n"
     ]
    }
   ],
   "source": [
    "pureMean = []\n",
    "pureStd = []\n",
    "for i in pureList:\n",
    "    a = np.load(i)\n",
    "    b = a\n",
    "    a = np.mean(a, axis=0)\n",
    "    b = np.std(b, axis=0)\n",
    "    pureMean.append(a[1])\n",
    "    pureStd.append(b[1])\n",
    "pureMean = np.array(pureMean)\n",
    "pureStd = np.array(pureStd)\n",
    "print(pureMean)\n",
    "print(pureStd)"
   ]
  },
  {
   "cell_type": "code",
   "execution_count": 32,
   "metadata": {},
   "outputs": [
    {
     "data": {
      "text/plain": [
       "<matplotlib.legend.Legend at 0x7717898>"
      ]
     },
     "execution_count": 32,
     "metadata": {},
     "output_type": "execute_result"
    },
    {
     "data": {
      "image/png": "[encoded data removed]",
      "text/plain": [
       "<Figure size 432x288 with 1 Axes>"
      ]
     },
     "metadata": {},
     "output_type": "display_data"
    }
   ],
   "source": [
    "plt.plot(bl, pureMean, label='Non EC')\n",
    "plt.fill_between(bl, pureMean-pureStd, pureMean+pureStd, alpha=0.7)\n",
    "\n",
    "plt.plot(bl, nnMean, label='NN EC')\n",
    "plt.fill_between(bl, nnMean-nnStd, nnMean+nnStd, alpha=0.5)\n",
    "\n",
    "plt.plot(bl, linMean, label='linear EC')\n",
    "plt.fill_between(bl, linMean-linStd, linMean+linStd, alpha=0.3)\n",
    "\n",
    "plt.xlim([1, 5])\n",
    "plt.ylim([0, 0.5])\n",
    "\n",
    "plt.xlabel('Burst length')\n",
    "plt.ylabel('Classification accuracy')\n",
    "plt.title('50 percent loss')\n",
    "plt.legend(loc='lower right')"
   ]
  },
  {
   "cell_type": "markdown",
   "metadata": {},
   "source": [
    "## block2_pool"
   ]
  },
  {
   "cell_type": "code",
   "execution_count": 33,
   "metadata": {},
   "outputs": [],
   "source": [
    "nnDir = 'C:\\\\Users\\\\hunnibha\\\\projectStuff\\\\code\\\\testData\\\\errorConceal\\\\NN\\\\block2_pool\\\\EC\\\\0.1'\n",
    "linDir = 'C:\\\\Users\\\\hunnibha\\\\projectStuff\\\\code\\\\testData\\\\errorConceal\\\\linear\\\\block2_pool\\\\EC\\\\0.1'\n",
    "pureDir = 'C:\\\\Users\\\\hunnibha\\\\projectStuff\\\\code\\\\testData\\\\errorConceal\\\\linear\\\\block2_pool\\\\noEC\\\\0.1'"
   ]
  },
  {
   "cell_type": "code",
   "execution_count": 34,
   "metadata": {},
   "outputs": [
    {
     "name": "stdout",
     "output_type": "stream",
     "text": [
      "['C:\\\\Users\\\\hunnibha\\\\projectStuff\\\\code\\\\testData\\\\errorConceal\\\\linear\\\\block2_pool\\\\noEC\\\\0.1\\\\0.1Loss_1BurstLength8Packet_block2_pool.npy', 'C:\\\\Users\\\\hunnibha\\\\projectStuff\\\\code\\\\testData\\\\errorConceal\\\\linear\\\\block2_pool\\\\noEC\\\\0.1\\\\0.1Loss_2BurstLength8Packet_block2_pool.npy', 'C:\\\\Users\\\\hunnibha\\\\projectStuff\\\\code\\\\testData\\\\errorConceal\\\\linear\\\\block2_pool\\\\noEC\\\\0.1\\\\0.1Loss_3BurstLength8Packet_block2_pool.npy', 'C:\\\\Users\\\\hunnibha\\\\projectStuff\\\\code\\\\testData\\\\errorConceal\\\\linear\\\\block2_pool\\\\noEC\\\\0.1\\\\0.1Loss_4BurstLength8Packet_block2_pool.npy', 'C:\\\\Users\\\\hunnibha\\\\projectStuff\\\\code\\\\testData\\\\errorConceal\\\\linear\\\\block2_pool\\\\noEC\\\\0.1\\\\0.1Loss_5BurstLength8Packet_block2_pool.npy']\n",
      "['C:\\\\Users\\\\hunnibha\\\\projectStuff\\\\code\\\\testData\\\\errorConceal\\\\linear\\\\block2_pool\\\\EC\\\\0.1\\\\0.1Loss_1BurstLength8Packet_block2_poolEC.npy', 'C:\\\\Users\\\\hunnibha\\\\projectStuff\\\\code\\\\testData\\\\errorConceal\\\\linear\\\\block2_pool\\\\EC\\\\0.1\\\\0.1Loss_2BurstLength8Packet_block2_poolEC.npy', 'C:\\\\Users\\\\hunnibha\\\\projectStuff\\\\code\\\\testData\\\\errorConceal\\\\linear\\\\block2_pool\\\\EC\\\\0.1\\\\0.1Loss_3BurstLength8Packet_block2_poolEC.npy', 'C:\\\\Users\\\\hunnibha\\\\projectStuff\\\\code\\\\testData\\\\errorConceal\\\\linear\\\\block2_pool\\\\EC\\\\0.1\\\\0.1Loss_4BurstLength8Packet_block2_poolEC.npy', 'C:\\\\Users\\\\hunnibha\\\\projectStuff\\\\code\\\\testData\\\\errorConceal\\\\linear\\\\block2_pool\\\\EC\\\\0.1\\\\0.1Loss_5BurstLength8Packet_block2_poolEC.npy']\n",
      "['C:\\\\Users\\\\hunnibha\\\\projectStuff\\\\code\\\\testData\\\\errorConceal\\\\NN\\\\block2_pool\\\\EC\\\\0.1\\\\0.1Loss_1BurstLength8Packet_block2_poolEC.npy', 'C:\\\\Users\\\\hunnibha\\\\projectStuff\\\\code\\\\testData\\\\errorConceal\\\\NN\\\\block2_pool\\\\EC\\\\0.1\\\\0.1Loss_2BurstLength8Packet_block2_poolEC.npy', 'C:\\\\Users\\\\hunnibha\\\\projectStuff\\\\code\\\\testData\\\\errorConceal\\\\NN\\\\block2_pool\\\\EC\\\\0.1\\\\0.1Loss_3BurstLength8Packet_block2_poolEC.npy', 'C:\\\\Users\\\\hunnibha\\\\projectStuff\\\\code\\\\testData\\\\errorConceal\\\\NN\\\\block2_pool\\\\EC\\\\0.1\\\\0.1Loss_4BurstLength8Packet_block2_poolEC.npy', 'C:\\\\Users\\\\hunnibha\\\\projectStuff\\\\code\\\\testData\\\\errorConceal\\\\NN\\\\block2_pool\\\\EC\\\\0.1\\\\0.1Loss_5BurstLength8Packet_block2_poolEC.npy']\n"
     ]
    }
   ],
   "source": [
    "nnList = os.listdir(nnDir)\n",
    "nnList = [os.path.join(nnDir, i) for i in nnList]\n",
    "linList = os.listdir(linDir)\n",
    "linList = [os.path.join(linDir, i) for i in linList]\n",
    "pureList = os.listdir(pureDir)\n",
    "pureList = [os.path.join(pureDir, i) for i in pureList]\n",
    "print(pureList)\n",
    "print(linList)\n",
    "print(nnList)"
   ]
  },
  {
   "cell_type": "code",
   "execution_count": 35,
   "metadata": {},
   "outputs": [
    {
     "name": "stdout",
     "output_type": "stream",
     "text": [
      "[0.76113636 0.75772727 0.75772727 0.755      0.76386364]\n",
      "[0.01825129 0.02441887 0.01824421 0.02217045 0.01945672]\n"
     ]
    }
   ],
   "source": [
    "bl = np.arange(1, 6, 1)\n",
    "nnMean = []\n",
    "nnStd = []\n",
    "for i in nnList:\n",
    "    a = np.load(i)\n",
    "    b = a\n",
    "    a = np.mean(a, axis=0)\n",
    "    b = np.std(b, axis=0)\n",
    "    nnMean.append(a[1])\n",
    "    nnStd.append(b[1])\n",
    "nnMean = np.array(nnMean)\n",
    "nnStd = np.array(nnStd)\n",
    "print(nnMean)\n",
    "print(nnStd)"
   ]
  },
  {
   "cell_type": "code",
   "execution_count": 36,
   "metadata": {},
   "outputs": [
    {
     "name": "stdout",
     "output_type": "stream",
     "text": [
      "[0.75795455 0.76090909 0.75568182 0.76113636 0.76227273]\n",
      "[0.0217102  0.02070054 0.02309364 0.02076656 0.02477585]\n"
     ]
    }
   ],
   "source": [
    "linMean = []\n",
    "linStd = []\n",
    "for i in linList:\n",
    "    a = np.load(i)\n",
    "    b = a\n",
    "    a = np.mean(a, axis=0)\n",
    "    b = np.std(b, axis=0)\n",
    "    linMean.append(a[1])\n",
    "    linStd.append(b[1])\n",
    "linMean = np.array(linMean)\n",
    "linStd = np.array(linStd)\n",
    "print(linMean)\n",
    "print(linStd)"
   ]
  },
  {
   "cell_type": "code",
   "execution_count": 37,
   "metadata": {},
   "outputs": [
    {
     "name": "stdout",
     "output_type": "stream",
     "text": [
      "[0.73       0.73409091 0.73477273 0.72227273 0.72477273]\n",
      "[0.02485079 0.0245833  0.02433092 0.02784995 0.03068519]\n"
     ]
    }
   ],
   "source": [
    "pureMean = []\n",
    "pureStd = []\n",
    "for i in pureList:\n",
    "    a = np.load(i)\n",
    "    b = a\n",
    "    a = np.mean(a, axis=0)\n",
    "    b = np.std(b, axis=0)\n",
    "    pureMean.append(a[1])\n",
    "    pureStd.append(b[1])\n",
    "pureMean = np.array(pureMean)\n",
    "pureStd = np.array(pureStd)\n",
    "print(pureMean)\n",
    "print(pureStd)"
   ]
  },
  {
   "cell_type": "code",
   "execution_count": 38,
   "metadata": {},
   "outputs": [
    {
     "data": {
      "text/plain": [
       "<matplotlib.legend.Legend at 0x77955c0>"
      ]
     },
     "execution_count": 38,
     "metadata": {},
     "output_type": "execute_result"
    },
    {
     "data": {
      "image/png": "[encoded data removed]",
      "text/plain": [
       "<Figure size 432x288 with 1 Axes>"
      ]
     },
     "metadata": {},
     "output_type": "display_data"
    }
   ],
   "source": [
    "plt.plot(bl, pureMean, label='Non EC')\n",
    "plt.fill_between(bl, pureMean-pureStd, pureMean+pureStd, alpha=0.7)\n",
    "\n",
    "plt.plot(bl, nnMean, label='NN EC')\n",
    "plt.fill_between(bl, nnMean-nnStd, nnMean+nnStd, alpha=0.5)\n",
    "\n",
    "plt.plot(bl, linMean, label='linear EC')\n",
    "plt.fill_between(bl, linMean-linStd, linMean+linStd, alpha=0.3)\n",
    "\n",
    "plt.xlim([1, 5])\n",
    "plt.ylim([0.5, 0.8])\n",
    "\n",
    "plt.xlabel('Burst length')\n",
    "plt.ylabel('Classification accuracy')\n",
    "plt.title('10 percent loss')\n",
    "plt.legend(loc='lower right')"
   ]
  },
  {
   "cell_type": "markdown",
   "metadata": {},
   "source": [
    "### 30 percent loss"
   ]
  },
  {
   "cell_type": "code",
   "execution_count": 39,
   "metadata": {},
   "outputs": [],
   "source": [
    "nnDir = 'C:\\\\Users\\\\hunnibha\\\\projectStuff\\\\code\\\\testData\\\\errorConceal\\\\NN\\\\block2_pool\\\\EC\\\\0.3'\n",
    "linDir = 'C:\\\\Users\\\\hunnibha\\\\projectStuff\\\\code\\\\testData\\\\errorConceal\\\\linear\\\\block2_pool\\\\EC\\\\0.3'\n",
    "pureDir = 'C:\\\\Users\\\\hunnibha\\\\projectStuff\\\\code\\\\testData\\\\errorConceal\\\\linear\\\\block2_pool\\\\noEC\\\\0.3'"
   ]
  },
  {
   "cell_type": "code",
   "execution_count": 40,
   "metadata": {},
   "outputs": [
    {
     "name": "stdout",
     "output_type": "stream",
     "text": [
      "['C:\\\\Users\\\\hunnibha\\\\projectStuff\\\\code\\\\testData\\\\errorConceal\\\\linear\\\\block2_pool\\\\noEC\\\\0.3\\\\0.3Loss_1BurstLength8Packet_block2_pool.npy', 'C:\\\\Users\\\\hunnibha\\\\projectStuff\\\\code\\\\testData\\\\errorConceal\\\\linear\\\\block2_pool\\\\noEC\\\\0.3\\\\0.3Loss_2BurstLength8Packet_block2_pool.npy', 'C:\\\\Users\\\\hunnibha\\\\projectStuff\\\\code\\\\testData\\\\errorConceal\\\\linear\\\\block2_pool\\\\noEC\\\\0.3\\\\0.3Loss_3BurstLength8Packet_block2_pool.npy', 'C:\\\\Users\\\\hunnibha\\\\projectStuff\\\\code\\\\testData\\\\errorConceal\\\\linear\\\\block2_pool\\\\noEC\\\\0.3\\\\0.3Loss_4BurstLength8Packet_block2_pool.npy', 'C:\\\\Users\\\\hunnibha\\\\projectStuff\\\\code\\\\testData\\\\errorConceal\\\\linear\\\\block2_pool\\\\noEC\\\\0.3\\\\0.3Loss_5BurstLength8Packet_block2_pool.npy']\n",
      "['C:\\\\Users\\\\hunnibha\\\\projectStuff\\\\code\\\\testData\\\\errorConceal\\\\linear\\\\block2_pool\\\\EC\\\\0.3\\\\0.3Loss_1BurstLength8Packet_block2_poolEC.npy', 'C:\\\\Users\\\\hunnibha\\\\projectStuff\\\\code\\\\testData\\\\errorConceal\\\\linear\\\\block2_pool\\\\EC\\\\0.3\\\\0.3Loss_2BurstLength8Packet_block2_poolEC.npy', 'C:\\\\Users\\\\hunnibha\\\\projectStuff\\\\code\\\\testData\\\\errorConceal\\\\linear\\\\block2_pool\\\\EC\\\\0.3\\\\0.3Loss_3BurstLength8Packet_block2_poolEC.npy', 'C:\\\\Users\\\\hunnibha\\\\projectStuff\\\\code\\\\testData\\\\errorConceal\\\\linear\\\\block2_pool\\\\EC\\\\0.3\\\\0.3Loss_4BurstLength8Packet_block2_poolEC.npy', 'C:\\\\Users\\\\hunnibha\\\\projectStuff\\\\code\\\\testData\\\\errorConceal\\\\linear\\\\block2_pool\\\\EC\\\\0.3\\\\0.3Loss_5BurstLength8Packet_block2_poolEC.npy']\n",
      "['C:\\\\Users\\\\hunnibha\\\\projectStuff\\\\code\\\\testData\\\\errorConceal\\\\NN\\\\block2_pool\\\\EC\\\\0.3\\\\0.3Loss_1BurstLength8Packet_block2_poolEC.npy', 'C:\\\\Users\\\\hunnibha\\\\projectStuff\\\\code\\\\testData\\\\errorConceal\\\\NN\\\\block2_pool\\\\EC\\\\0.3\\\\0.3Loss_2BurstLength8Packet_block2_poolEC.npy', 'C:\\\\Users\\\\hunnibha\\\\projectStuff\\\\code\\\\testData\\\\errorConceal\\\\NN\\\\block2_pool\\\\EC\\\\0.3\\\\0.3Loss_3BurstLength8Packet_block2_poolEC.npy', 'C:\\\\Users\\\\hunnibha\\\\projectStuff\\\\code\\\\testData\\\\errorConceal\\\\NN\\\\block2_pool\\\\EC\\\\0.3\\\\0.3Loss_4BurstLength8Packet_block2_poolEC.npy', 'C:\\\\Users\\\\hunnibha\\\\projectStuff\\\\code\\\\testData\\\\errorConceal\\\\NN\\\\block2_pool\\\\EC\\\\0.3\\\\0.3Loss_5BurstLength8Packet_block2_poolEC.npy']\n"
     ]
    }
   ],
   "source": [
    "nnList = os.listdir(nnDir)\n",
    "nnList = [os.path.join(nnDir, i) for i in nnList]\n",
    "linList = os.listdir(linDir)\n",
    "linList = [os.path.join(linDir, i) for i in linList]\n",
    "pureList = os.listdir(pureDir)\n",
    "pureList = [os.path.join(pureDir, i) for i in pureList]\n",
    "print(pureList)\n",
    "print(linList)\n",
    "print(nnList)"
   ]
  },
  {
   "cell_type": "code",
   "execution_count": 41,
   "metadata": {},
   "outputs": [
    {
     "name": "stdout",
     "output_type": "stream",
     "text": [
      "[0.63477273 0.635      0.62477273 0.625      0.62      ]\n",
      "[0.03542904 0.03227273 0.03120265 0.03006536 0.03158682]\n"
     ]
    }
   ],
   "source": [
    "bl = np.arange(1, 6, 1)\n",
    "nnMean = []\n",
    "nnStd = []\n",
    "for i in nnList:\n",
    "    a = np.load(i)\n",
    "    b = a\n",
    "    a = np.mean(a, axis=0)\n",
    "    b = np.std(b, axis=0)\n",
    "    nnMean.append(a[1])\n",
    "    nnStd.append(b[1])\n",
    "nnMean = np.array(nnMean)\n",
    "nnStd = np.array(nnStd)\n",
    "print(nnMean)\n",
    "print(nnStd)"
   ]
  },
  {
   "cell_type": "code",
   "execution_count": 42,
   "metadata": {},
   "outputs": [
    {
     "name": "stdout",
     "output_type": "stream",
     "text": [
      "[0.64886364 0.63954545 0.64363636 0.63477273 0.63318182]\n",
      "[0.03418547 0.03491726 0.03353794 0.02755629 0.03083212]\n"
     ]
    }
   ],
   "source": [
    "linMean = []\n",
    "linStd = []\n",
    "for i in linList:\n",
    "    a = np.load(i)\n",
    "    b = a\n",
    "    a = np.mean(a, axis=0)\n",
    "    b = np.std(b, axis=0)\n",
    "    linMean.append(a[1])\n",
    "    linStd.append(b[1])\n",
    "linMean = np.array(linMean)\n",
    "linStd = np.array(linStd)\n",
    "print(linMean)\n",
    "print(linStd)"
   ]
  },
  {
   "cell_type": "code",
   "execution_count": 43,
   "metadata": {},
   "outputs": [
    {
     "name": "stdout",
     "output_type": "stream",
     "text": [
      "[0.44204545 0.46590909 0.46045455 0.46386364 0.45727273]\n",
      "[0.04009609 0.03431743 0.03559123 0.04605793 0.04107039]\n"
     ]
    }
   ],
   "source": [
    "pureMean = []\n",
    "pureStd = []\n",
    "for i in pureList:\n",
    "    a = np.load(i)\n",
    "    b = a\n",
    "    a = np.mean(a, axis=0)\n",
    "    b = np.std(b, axis=0)\n",
    "    pureMean.append(a[1])\n",
    "    pureStd.append(b[1])\n",
    "pureMean = np.array(pureMean)\n",
    "pureStd = np.array(pureStd)\n",
    "print(pureMean)\n",
    "print(pureStd)"
   ]
  },
  {
   "cell_type": "code",
   "execution_count": 44,
   "metadata": {},
   "outputs": [
    {
     "data": {
      "text/plain": [
       "<matplotlib.legend.Legend at 0x780e6a0>"
      ]
     },
     "execution_count": 44,
     "metadata": {},
     "output_type": "execute_result"
    },
    {
     "data": {
      "image/png": "[encoded data removed]",
      "text/plain": [
       "<Figure size 432x288 with 1 Axes>"
      ]
     },
     "metadata": {},
     "output_type": "display_data"
    }
   ],
   "source": [
    "plt.plot(bl, pureMean, label='Non EC')\n",
    "plt.fill_between(bl, pureMean-pureStd, pureMean+pureStd, alpha=0.7)\n",
    "\n",
    "plt.plot(bl, nnMean, label='NN EC')\n",
    "plt.fill_between(bl, nnMean-nnStd, nnMean+nnStd, alpha=0.5)\n",
    "\n",
    "plt.plot(bl, linMean, label='linear EC')\n",
    "plt.fill_between(bl, linMean-linStd, linMean+linStd, alpha=0.3)\n",
    "\n",
    "plt.xlim([1, 5])\n",
    "plt.ylim([0.3, 0.8])\n",
    "\n",
    "plt.xlabel('Burst length')\n",
    "plt.ylabel('Classification accuracy')\n",
    "plt.title('30 percent loss')\n",
    "plt.legend(loc='lower right')"
   ]
  },
  {
   "cell_type": "markdown",
   "metadata": {},
   "source": [
    "### 50 percent loss"
   ]
  },
  {
   "cell_type": "code",
   "execution_count": 45,
   "metadata": {},
   "outputs": [],
   "source": [
    "nnDir = 'C:\\\\Users\\\\hunnibha\\\\projectStuff\\\\code\\\\testData\\\\errorConceal\\\\NN\\\\block2_pool\\\\EC\\\\0.5'\n",
    "linDir = 'C:\\\\Users\\\\hunnibha\\\\projectStuff\\\\code\\\\testData\\\\errorConceal\\\\linear\\\\block2_pool\\\\EC\\\\0.5'\n",
    "pureDir = 'C:\\\\Users\\\\hunnibha\\\\projectStuff\\\\code\\\\testData\\\\errorConceal\\\\linear\\\\block2_pool\\\\noEC\\\\0.5'"
   ]
  },
  {
   "cell_type": "code",
   "execution_count": 46,
   "metadata": {},
   "outputs": [
    {
     "name": "stdout",
     "output_type": "stream",
     "text": [
      "['C:\\\\Users\\\\hunnibha\\\\projectStuff\\\\code\\\\testData\\\\errorConceal\\\\linear\\\\block2_pool\\\\noEC\\\\0.5\\\\0.5Loss_1BurstLength8Packet_block2_pool.npy', 'C:\\\\Users\\\\hunnibha\\\\projectStuff\\\\code\\\\testData\\\\errorConceal\\\\linear\\\\block2_pool\\\\noEC\\\\0.5\\\\0.5Loss_2BurstLength8Packet_block2_pool.npy', 'C:\\\\Users\\\\hunnibha\\\\projectStuff\\\\code\\\\testData\\\\errorConceal\\\\linear\\\\block2_pool\\\\noEC\\\\0.5\\\\0.5Loss_3BurstLength8Packet_block2_pool.npy', 'C:\\\\Users\\\\hunnibha\\\\projectStuff\\\\code\\\\testData\\\\errorConceal\\\\linear\\\\block2_pool\\\\noEC\\\\0.5\\\\0.5Loss_4BurstLength8Packet_block2_pool.npy', 'C:\\\\Users\\\\hunnibha\\\\projectStuff\\\\code\\\\testData\\\\errorConceal\\\\linear\\\\block2_pool\\\\noEC\\\\0.5\\\\0.5Loss_5BurstLength8Packet_block2_pool.npy']\n",
      "['C:\\\\Users\\\\hunnibha\\\\projectStuff\\\\code\\\\testData\\\\errorConceal\\\\linear\\\\block2_pool\\\\EC\\\\0.5\\\\0.5Loss_1BurstLength8Packet_block2_poolEC.npy', 'C:\\\\Users\\\\hunnibha\\\\projectStuff\\\\code\\\\testData\\\\errorConceal\\\\linear\\\\block2_pool\\\\EC\\\\0.5\\\\0.5Loss_2BurstLength8Packet_block2_poolEC.npy', 'C:\\\\Users\\\\hunnibha\\\\projectStuff\\\\code\\\\testData\\\\errorConceal\\\\linear\\\\block2_pool\\\\EC\\\\0.5\\\\0.5Loss_3BurstLength8Packet_block2_poolEC.npy', 'C:\\\\Users\\\\hunnibha\\\\projectStuff\\\\code\\\\testData\\\\errorConceal\\\\linear\\\\block2_pool\\\\EC\\\\0.5\\\\0.5Loss_4BurstLength8Packet_block2_poolEC.npy', 'C:\\\\Users\\\\hunnibha\\\\projectStuff\\\\code\\\\testData\\\\errorConceal\\\\linear\\\\block2_pool\\\\EC\\\\0.5\\\\0.5Loss_5BurstLength8Packet_block2_poolEC.npy']\n",
      "['C:\\\\Users\\\\hunnibha\\\\projectStuff\\\\code\\\\testData\\\\errorConceal\\\\NN\\\\block2_pool\\\\EC\\\\0.5\\\\0.5Loss_1BurstLength8Packet_block2_poolEC.npy', 'C:\\\\Users\\\\hunnibha\\\\projectStuff\\\\code\\\\testData\\\\errorConceal\\\\NN\\\\block2_pool\\\\EC\\\\0.5\\\\0.5Loss_2BurstLength8Packet_block2_poolEC.npy', 'C:\\\\Users\\\\hunnibha\\\\projectStuff\\\\code\\\\testData\\\\errorConceal\\\\NN\\\\block2_pool\\\\EC\\\\0.5\\\\0.5Loss_3BurstLength8Packet_block2_poolEC.npy', 'C:\\\\Users\\\\hunnibha\\\\projectStuff\\\\code\\\\testData\\\\errorConceal\\\\NN\\\\block2_pool\\\\EC\\\\0.5\\\\0.5Loss_4BurstLength8Packet_block2_poolEC.npy', 'C:\\\\Users\\\\hunnibha\\\\projectStuff\\\\code\\\\testData\\\\errorConceal\\\\NN\\\\block2_pool\\\\EC\\\\0.5\\\\0.5Loss_5BurstLength8Packet_block2_poolEC.npy']\n"
     ]
    }
   ],
   "source": [
    "nnList = os.listdir(nnDir)\n",
    "nnList = [os.path.join(nnDir, i) for i in nnList]\n",
    "linList = os.listdir(linDir)\n",
    "linList = [os.path.join(linDir, i) for i in linList]\n",
    "pureList = os.listdir(pureDir)\n",
    "pureList = [os.path.join(pureDir, i) for i in pureList]\n",
    "print(pureList)\n",
    "print(linList)\n",
    "print(nnList)"
   ]
  },
  {
   "cell_type": "code",
   "execution_count": 47,
   "metadata": {},
   "outputs": [
    {
     "name": "stdout",
     "output_type": "stream",
     "text": [
      "[0.01136364 0.18704545 0.19136364 0.18477273 0.20022727]\n",
      "[5.20417043e-18 3.08463601e-02 3.34299564e-02 3.02204367e-02\n",
      " 3.70593950e-02]\n"
     ]
    }
   ],
   "source": [
    "bl = np.arange(1, 6, 1)\n",
    "nnMean = []\n",
    "nnStd = []\n",
    "for i in nnList:\n",
    "    a = np.load(i)\n",
    "    b = a\n",
    "    a = np.mean(a, axis=0)\n",
    "    b = np.std(b, axis=0)\n",
    "    nnMean.append(a[1])\n",
    "    nnStd.append(b[1])\n",
    "nnMean = np.array(nnMean)\n",
    "nnStd = np.array(nnStd)\n",
    "print(nnMean)\n",
    "print(nnStd)"
   ]
  },
  {
   "cell_type": "code",
   "execution_count": 48,
   "metadata": {},
   "outputs": [
    {
     "name": "stdout",
     "output_type": "stream",
     "text": [
      "[0.01136364 0.21477273 0.21931818 0.22363636 0.23136364]\n",
      "[5.20417043e-18 2.96545190e-02 3.77744776e-02 2.76899898e-02\n",
      " 2.97857362e-02]\n"
     ]
    }
   ],
   "source": [
    "linMean = []\n",
    "linStd = []\n",
    "for i in linList:\n",
    "    a = np.load(i)\n",
    "    b = a\n",
    "    a = np.mean(a, axis=0)\n",
    "    b = np.std(b, axis=0)\n",
    "    linMean.append(a[1])\n",
    "    linStd.append(b[1])\n",
    "linMean = np.array(linMean)\n",
    "linStd = np.array(linStd)\n",
    "print(linMean)\n",
    "print(linStd)"
   ]
  },
  {
   "cell_type": "code",
   "execution_count": 49,
   "metadata": {},
   "outputs": [
    {
     "name": "stdout",
     "output_type": "stream",
     "text": [
      "[0.01136364 0.04431818 0.05227273 0.04977273 0.05545455]\n",
      "[5.20417043e-18 2.09843015e-02 2.08298895e-02 1.96679565e-02\n",
      " 2.06605785e-02]\n"
     ]
    }
   ],
   "source": [
    "pureMean = []\n",
    "pureStd = []\n",
    "for i in pureList:\n",
    "    a = np.load(i)\n",
    "    b = a\n",
    "    a = np.mean(a, axis=0)\n",
    "    b = np.std(b, axis=0)\n",
    "    pureMean.append(a[1])\n",
    "    pureStd.append(b[1])\n",
    "pureMean = np.array(pureMean)\n",
    "pureStd = np.array(pureStd)\n",
    "print(pureMean)\n",
    "print(pureStd)"
   ]
  },
  {
   "cell_type": "code",
   "execution_count": 50,
   "metadata": {},
   "outputs": [
    {
     "data": {
      "text/plain": [
       "<matplotlib.legend.Legend at 0x788a470>"
      ]
     },
     "execution_count": 50,
     "metadata": {},
     "output_type": "execute_result"
    },
    {
     "data": {
      "image/png": "[encoded data removed]",
      "text/plain": [
       "<Figure size 432x288 with 1 Axes>"
      ]
     },
     "metadata": {},
     "output_type": "display_data"
    }
   ],
   "source": [
    "plt.plot(bl, pureMean, label='Non EC')\n",
    "plt.fill_between(bl, pureMean-pureStd, pureMean+pureStd, alpha=0.7)\n",
    "\n",
    "plt.plot(bl, nnMean, label='NN EC')\n",
    "plt.fill_between(bl, nnMean-nnStd, nnMean+nnStd, alpha=0.5)\n",
    "\n",
    "plt.plot(bl, linMean, label='linear EC')\n",
    "plt.fill_between(bl, linMean-linStd, linMean+linStd, alpha=0.3)\n",
    "\n",
    "plt.xlim([1, 5])\n",
    "plt.ylim([0, 0.5])\n",
    "\n",
    "plt.xlabel('Burst length')\n",
    "plt.ylabel('Classification accuracy')\n",
    "plt.title('50 percent loss')\n",
    "plt.legend(loc='lower right')"
   ]
  },
  {
   "cell_type": "markdown",
   "metadata": {},
   "source": [
    "## block3_pool"
   ]
  },
  {
   "cell_type": "code",
   "execution_count": 51,
   "metadata": {},
   "outputs": [],
   "source": [
    "nnDir = 'C:\\\\Users\\\\hunnibha\\\\projectStuff\\\\code\\\\testData\\\\errorConceal\\\\NN\\\\block3_pool\\\\EC\\\\0.1'\n",
    "linDir = 'C:\\\\Users\\\\hunnibha\\\\projectStuff\\\\code\\\\testData\\\\errorConceal\\\\linear\\\\block3_pool\\\\EC\\\\0.1'\n",
    "pureDir = 'C:\\\\Users\\\\hunnibha\\\\projectStuff\\\\code\\\\testData\\\\errorConceal\\\\linear\\\\block3_pool\\\\noEC\\\\0.1'"
   ]
  },
  {
   "cell_type": "code",
   "execution_count": 52,
   "metadata": {},
   "outputs": [
    {
     "name": "stdout",
     "output_type": "stream",
     "text": [
      "['C:\\\\Users\\\\hunnibha\\\\projectStuff\\\\code\\\\testData\\\\errorConceal\\\\linear\\\\block3_pool\\\\noEC\\\\0.1\\\\0.1Loss_1BurstLength8Packet_block3_pool.npy', 'C:\\\\Users\\\\hunnibha\\\\projectStuff\\\\code\\\\testData\\\\errorConceal\\\\linear\\\\block3_pool\\\\noEC\\\\0.1\\\\0.1Loss_2BurstLength8Packet_block3_pool.npy', 'C:\\\\Users\\\\hunnibha\\\\projectStuff\\\\code\\\\testData\\\\errorConceal\\\\linear\\\\block3_pool\\\\noEC\\\\0.1\\\\0.1Loss_3BurstLength8Packet_block3_pool.npy', 'C:\\\\Users\\\\hunnibha\\\\projectStuff\\\\code\\\\testData\\\\errorConceal\\\\linear\\\\block3_pool\\\\noEC\\\\0.1\\\\0.1Loss_4BurstLength8Packet_block3_pool.npy', 'C:\\\\Users\\\\hunnibha\\\\projectStuff\\\\code\\\\testData\\\\errorConceal\\\\linear\\\\block3_pool\\\\noEC\\\\0.1\\\\0.1Loss_5BurstLength8Packet_block3_pool.npy']\n",
      "['C:\\\\Users\\\\hunnibha\\\\projectStuff\\\\code\\\\testData\\\\errorConceal\\\\linear\\\\block3_pool\\\\EC\\\\0.1\\\\0.1Loss_1BurstLength8Packet_block3_poolEC.npy', 'C:\\\\Users\\\\hunnibha\\\\projectStuff\\\\code\\\\testData\\\\errorConceal\\\\linear\\\\block3_pool\\\\EC\\\\0.1\\\\0.1Loss_2BurstLength8Packet_block3_poolEC.npy', 'C:\\\\Users\\\\hunnibha\\\\projectStuff\\\\code\\\\testData\\\\errorConceal\\\\linear\\\\block3_pool\\\\EC\\\\0.1\\\\0.1Loss_3BurstLength8Packet_block3_poolEC.npy', 'C:\\\\Users\\\\hunnibha\\\\projectStuff\\\\code\\\\testData\\\\errorConceal\\\\linear\\\\block3_pool\\\\EC\\\\0.1\\\\0.1Loss_4BurstLength8Packet_block3_poolEC.npy', 'C:\\\\Users\\\\hunnibha\\\\projectStuff\\\\code\\\\testData\\\\errorConceal\\\\linear\\\\block3_pool\\\\EC\\\\0.1\\\\0.1Loss_5BurstLength8Packet_block3_poolEC.npy']\n",
      "['C:\\\\Users\\\\hunnibha\\\\projectStuff\\\\code\\\\testData\\\\errorConceal\\\\NN\\\\block3_pool\\\\EC\\\\0.1\\\\0.1Loss_1BurstLength8Packet_block3_poolEC.npy', 'C:\\\\Users\\\\hunnibha\\\\projectStuff\\\\code\\\\testData\\\\errorConceal\\\\NN\\\\block3_pool\\\\EC\\\\0.1\\\\0.1Loss_2BurstLength8Packet_block3_poolEC.npy', 'C:\\\\Users\\\\hunnibha\\\\projectStuff\\\\code\\\\testData\\\\errorConceal\\\\NN\\\\block3_pool\\\\EC\\\\0.1\\\\0.1Loss_3BurstLength8Packet_block3_poolEC.npy', 'C:\\\\Users\\\\hunnibha\\\\projectStuff\\\\code\\\\testData\\\\errorConceal\\\\NN\\\\block3_pool\\\\EC\\\\0.1\\\\0.1Loss_4BurstLength8Packet_block3_poolEC.npy', 'C:\\\\Users\\\\hunnibha\\\\projectStuff\\\\code\\\\testData\\\\errorConceal\\\\NN\\\\block3_pool\\\\EC\\\\0.1\\\\0.1Loss_5BurstLength8Packet_block3_poolEC.npy']\n"
     ]
    }
   ],
   "source": [
    "nnList = os.listdir(nnDir)\n",
    "nnList = [os.path.join(nnDir, i) for i in nnList]\n",
    "linList = os.listdir(linDir)\n",
    "linList = [os.path.join(linDir, i) for i in linList]\n",
    "pureList = os.listdir(pureDir)\n",
    "pureList = [os.path.join(pureDir, i) for i in pureList]\n",
    "print(pureList)\n",
    "print(linList)\n",
    "print(nnList)"
   ]
  },
  {
   "cell_type": "code",
   "execution_count": 53,
   "metadata": {},
   "outputs": [
    {
     "name": "stdout",
     "output_type": "stream",
     "text": [
      "[0.77113636 0.77340909 0.77386364 0.77227273 0.77159091]\n",
      "[0.01915169 0.01564885 0.0217102  0.02044949 0.02182883]\n"
     ]
    }
   ],
   "source": [
    "bl = np.arange(1, 6, 1)\n",
    "nnMean = []\n",
    "nnStd = []\n",
    "for i in nnList:\n",
    "    a = np.load(i)\n",
    "    b = a\n",
    "    a = np.mean(a, axis=0)\n",
    "    b = np.std(b, axis=0)\n",
    "    nnMean.append(a[1])\n",
    "    nnStd.append(b[1])\n",
    "nnMean = np.array(nnMean)\n",
    "nnStd = np.array(nnStd)\n",
    "print(nnMean)\n",
    "print(nnStd)"
   ]
  },
  {
   "cell_type": "code",
   "execution_count": 54,
   "metadata": {},
   "outputs": [
    {
     "name": "stdout",
     "output_type": "stream",
     "text": [
      "[0.77386364 0.77659091 0.78       0.77090909 0.76909091]\n",
      "[0.01835852 0.02040524 0.019912   0.01972958 0.01852517]\n"
     ]
    }
   ],
   "source": [
    "linMean = []\n",
    "linStd = []\n",
    "for i in linList:\n",
    "    a = np.load(i)\n",
    "    b = a\n",
    "    a = np.mean(a, axis=0)\n",
    "    b = np.std(b, axis=0)\n",
    "    linMean.append(a[1])\n",
    "    linStd.append(b[1])\n",
    "linMean = np.array(linMean)\n",
    "linStd = np.array(linStd)\n",
    "print(linMean)\n",
    "print(linStd)"
   ]
  },
  {
   "cell_type": "code",
   "execution_count": 55,
   "metadata": {},
   "outputs": [
    {
     "name": "stdout",
     "output_type": "stream",
     "text": [
      "[0.76568182 0.75681818 0.75545455 0.75590909 0.75340909]\n",
      "[0.02590211 0.02571297 0.02098307 0.02492136 0.0255366 ]\n"
     ]
    }
   ],
   "source": [
    "pureMean = []\n",
    "pureStd = []\n",
    "for i in pureList:\n",
    "    a = np.load(i)\n",
    "    b = a\n",
    "    a = np.mean(a, axis=0)\n",
    "    b = np.std(b, axis=0)\n",
    "    pureMean.append(a[1])\n",
    "    pureStd.append(b[1])\n",
    "pureMean = np.array(pureMean)\n",
    "pureStd = np.array(pureStd)\n",
    "print(pureMean)\n",
    "print(pureStd)"
   ]
  },
  {
   "cell_type": "code",
   "execution_count": 57,
   "metadata": {},
   "outputs": [
    {
     "data": {
      "text/plain": [
       "<matplotlib.legend.Legend at 0x123c1ef0>"
      ]
     },
     "execution_count": 57,
     "metadata": {},
     "output_type": "execute_result"
    },
    {
     "data": {
      "image/png": "[encoded data removed]",
      "text/plain": [
       "<Figure size 432x288 with 1 Axes>"
      ]
     },
     "metadata": {},
     "output_type": "display_data"
    }
   ],
   "source": [
    "plt.plot(bl, pureMean, label='Non EC')\n",
    "plt.fill_between(bl, pureMean-pureStd, pureMean+pureStd, alpha=0.7)\n",
    "\n",
    "plt.plot(bl, nnMean, label='NN EC')\n",
    "plt.fill_between(bl, nnMean-nnStd, nnMean+nnStd, alpha=0.5)\n",
    "\n",
    "plt.plot(bl, linMean, label='linear EC')\n",
    "plt.fill_between(bl, linMean-linStd, linMean+linStd, alpha=0.3)\n",
    "\n",
    "plt.xlim([1, 5])\n",
    "plt.ylim([0.5, 1])\n",
    "\n",
    "plt.xlabel('Burst length')\n",
    "plt.ylabel('Classification accuracy')\n",
    "plt.title('10 percent loss')\n",
    "plt.legend(loc='lower right')"
   ]
  },
  {
   "cell_type": "markdown",
   "metadata": {},
   "source": [
    "### 30 percent loss"
   ]
  },
  {
   "cell_type": "code",
   "execution_count": 62,
   "metadata": {},
   "outputs": [],
   "source": [
    "nnDir = 'C:\\\\Users\\\\hunnibha\\\\projectStuff\\\\code\\\\testData\\\\errorConceal\\\\NN\\\\block3_pool\\\\EC\\\\0.3'\n",
    "linDir = 'C:\\\\Users\\\\hunnibha\\\\projectStuff\\\\code\\\\testData\\\\errorConceal\\\\linear\\\\block3_pool\\\\EC\\\\0.3'\n",
    "pureDir = 'C:\\\\Users\\\\hunnibha\\\\projectStuff\\\\code\\\\testData\\\\errorConceal\\\\linear\\\\block3_pool\\\\noEC\\\\0.3'"
   ]
  },
  {
   "cell_type": "code",
   "execution_count": 63,
   "metadata": {},
   "outputs": [
    {
     "name": "stdout",
     "output_type": "stream",
     "text": [
      "['C:\\\\Users\\\\hunnibha\\\\projectStuff\\\\code\\\\testData\\\\errorConceal\\\\linear\\\\block3_pool\\\\noEC\\\\0.3\\\\0.3Loss_1BurstLength8Packet_block3_pool.npy', 'C:\\\\Users\\\\hunnibha\\\\projectStuff\\\\code\\\\testData\\\\errorConceal\\\\linear\\\\block3_pool\\\\noEC\\\\0.3\\\\0.3Loss_2BurstLength8Packet_block3_pool.npy', 'C:\\\\Users\\\\hunnibha\\\\projectStuff\\\\code\\\\testData\\\\errorConceal\\\\linear\\\\block3_pool\\\\noEC\\\\0.3\\\\0.3Loss_3BurstLength8Packet_block3_pool.npy', 'C:\\\\Users\\\\hunnibha\\\\projectStuff\\\\code\\\\testData\\\\errorConceal\\\\linear\\\\block3_pool\\\\noEC\\\\0.3\\\\0.3Loss_4BurstLength8Packet_block3_pool.npy', 'C:\\\\Users\\\\hunnibha\\\\projectStuff\\\\code\\\\testData\\\\errorConceal\\\\linear\\\\block3_pool\\\\noEC\\\\0.3\\\\0.3Loss_5BurstLength8Packet_block3_pool.npy']\n",
      "['C:\\\\Users\\\\hunnibha\\\\projectStuff\\\\code\\\\testData\\\\errorConceal\\\\linear\\\\block3_pool\\\\EC\\\\0.3\\\\0.3Loss_1BurstLength8Packet_block3_poolEC.npy', 'C:\\\\Users\\\\hunnibha\\\\projectStuff\\\\code\\\\testData\\\\errorConceal\\\\linear\\\\block3_pool\\\\EC\\\\0.3\\\\0.3Loss_2BurstLength8Packet_block3_poolEC.npy', 'C:\\\\Users\\\\hunnibha\\\\projectStuff\\\\code\\\\testData\\\\errorConceal\\\\linear\\\\block3_pool\\\\EC\\\\0.3\\\\0.3Loss_3BurstLength8Packet_block3_poolEC.npy', 'C:\\\\Users\\\\hunnibha\\\\projectStuff\\\\code\\\\testData\\\\errorConceal\\\\linear\\\\block3_pool\\\\EC\\\\0.3\\\\0.3Loss_4BurstLength8Packet_block3_poolEC.npy', 'C:\\\\Users\\\\hunnibha\\\\projectStuff\\\\code\\\\testData\\\\errorConceal\\\\linear\\\\block3_pool\\\\EC\\\\0.3\\\\0.3Loss_5BurstLength8Packet_block3_poolEC.npy']\n",
      "['C:\\\\Users\\\\hunnibha\\\\projectStuff\\\\code\\\\testData\\\\errorConceal\\\\NN\\\\block3_pool\\\\EC\\\\0.3\\\\0.3Loss_1BurstLength8Packet_block3_poolEC.npy', 'C:\\\\Users\\\\hunnibha\\\\projectStuff\\\\code\\\\testData\\\\errorConceal\\\\NN\\\\block3_pool\\\\EC\\\\0.3\\\\0.3Loss_2BurstLength8Packet_block3_poolEC.npy', 'C:\\\\Users\\\\hunnibha\\\\projectStuff\\\\code\\\\testData\\\\errorConceal\\\\NN\\\\block3_pool\\\\EC\\\\0.3\\\\0.3Loss_3BurstLength8Packet_block3_poolEC.npy', 'C:\\\\Users\\\\hunnibha\\\\projectStuff\\\\code\\\\testData\\\\errorConceal\\\\NN\\\\block3_pool\\\\EC\\\\0.3\\\\0.3Loss_4BurstLength8Packet_block3_poolEC.npy', 'C:\\\\Users\\\\hunnibha\\\\projectStuff\\\\code\\\\testData\\\\errorConceal\\\\NN\\\\block3_pool\\\\EC\\\\0.3\\\\0.3Loss_5BurstLength8Packet_block3_poolEC.npy']\n"
     ]
    }
   ],
   "source": [
    "nnList = os.listdir(nnDir)\n",
    "nnList = [os.path.join(nnDir, i) for i in nnList]\n",
    "linList = os.listdir(linDir)\n",
    "linList = [os.path.join(linDir, i) for i in linList]\n",
    "pureList = os.listdir(pureDir)\n",
    "pureList = [os.path.join(pureDir, i) for i in pureList]\n",
    "print(pureList)\n",
    "print(linList)\n",
    "print(nnList)"
   ]
  },
  {
   "cell_type": "code",
   "execution_count": 64,
   "metadata": {},
   "outputs": [
    {
     "name": "stdout",
     "output_type": "stream",
     "text": [
      "[0.68568182 0.675      0.66863636 0.67340909 0.67045455]\n",
      "[0.02915919 0.02679506 0.03135705 0.03677396 0.03454246]\n"
     ]
    }
   ],
   "source": [
    "bl = np.arange(1, 6, 1)\n",
    "nnMean = []\n",
    "nnStd = []\n",
    "for i in nnList:\n",
    "    a = np.load(i)\n",
    "    b = a\n",
    "    a = np.mean(a, axis=0)\n",
    "    b = np.std(b, axis=0)\n",
    "    nnMean.append(a[1])\n",
    "    nnStd.append(b[1])\n",
    "nnMean = np.array(nnMean)\n",
    "nnStd = np.array(nnStd)\n",
    "print(nnMean)\n",
    "print(nnStd)"
   ]
  },
  {
   "cell_type": "code",
   "execution_count": 65,
   "metadata": {},
   "outputs": [
    {
     "name": "stdout",
     "output_type": "stream",
     "text": [
      "[0.67863636 0.68136364 0.68068182 0.67886364 0.68159091]\n",
      "[0.02650822 0.03809514 0.03183847 0.03147625 0.03919977]\n"
     ]
    }
   ],
   "source": [
    "linMean = []\n",
    "linStd = []\n",
    "for i in linList:\n",
    "    a = np.load(i)\n",
    "    b = a\n",
    "    a = np.mean(a, axis=0)\n",
    "    b = np.std(b, axis=0)\n",
    "    linMean.append(a[1])\n",
    "    linStd.append(b[1])\n",
    "linMean = np.array(linMean)\n",
    "linStd = np.array(linStd)\n",
    "print(linMean)\n",
    "print(linStd)"
   ]
  },
  {
   "cell_type": "code",
   "execution_count": 66,
   "metadata": {},
   "outputs": [
    {
     "name": "stdout",
     "output_type": "stream",
     "text": [
      "[0.63       0.63181818 0.61840909 0.63636364 0.63204545]\n",
      "[0.02894138 0.03830068 0.03348631 0.03579094 0.03768138]\n"
     ]
    }
   ],
   "source": [
    "pureMean = []\n",
    "pureStd = []\n",
    "for i in pureList:\n",
    "    a = np.load(i)\n",
    "    b = a\n",
    "    a = np.mean(a, axis=0)\n",
    "    b = np.std(b, axis=0)\n",
    "    pureMean.append(a[1])\n",
    "    pureStd.append(b[1])\n",
    "pureMean = np.array(pureMean)\n",
    "pureStd = np.array(pureStd)\n",
    "print(pureMean)\n",
    "print(pureStd)"
   ]
  },
  {
   "cell_type": "code",
   "execution_count": 67,
   "metadata": {},
   "outputs": [
    {
     "data": {
      "text/plain": [
       "<matplotlib.legend.Legend at 0x12443358>"
      ]
     },
     "execution_count": 67,
     "metadata": {},
     "output_type": "execute_result"
    },
    {
     "data": {
      "image/png": "[encoded data removed]",
      "text/plain": [
       "<Figure size 432x288 with 1 Axes>"
      ]
     },
     "metadata": {},
     "output_type": "display_data"
    }
   ],
   "source": [
    "plt.plot(bl, pureMean, label='Non EC')\n",
    "plt.fill_between(bl, pureMean-pureStd, pureMean+pureStd, alpha=0.7)\n",
    "\n",
    "plt.plot(bl, nnMean, label='NN EC')\n",
    "plt.fill_between(bl, nnMean-nnStd, nnMean+nnStd, alpha=0.5)\n",
    "\n",
    "plt.plot(bl, linMean, label='linear EC')\n",
    "plt.fill_between(bl, linMean-linStd, linMean+linStd, alpha=0.3)\n",
    "\n",
    "plt.xlim([1, 5])\n",
    "plt.ylim([0.4, 0.8])\n",
    "\n",
    "plt.xlabel('Burst length')\n",
    "plt.ylabel('Classification accuracy')\n",
    "plt.title('30 percent loss')\n",
    "plt.legend(loc='lower right')"
   ]
  },
  {
   "cell_type": "markdown",
   "metadata": {},
   "source": [
    "### 50 percent loss"
   ]
  },
  {
   "cell_type": "code",
   "execution_count": 68,
   "metadata": {},
   "outputs": [],
   "source": [
    "nnDir = 'C:\\\\Users\\\\hunnibha\\\\projectStuff\\\\code\\\\testData\\\\errorConceal\\\\NN\\\\block3_pool\\\\EC\\\\0.5'\n",
    "linDir = 'C:\\\\Users\\\\hunnibha\\\\projectStuff\\\\code\\\\testData\\\\errorConceal\\\\linear\\\\block3_pool\\\\EC\\\\0.5'\n",
    "pureDir = 'C:\\\\Users\\\\hunnibha\\\\projectStuff\\\\code\\\\testData\\\\errorConceal\\\\linear\\\\block3_pool\\\\noEC\\\\0.5'"
   ]
  },
  {
   "cell_type": "code",
   "execution_count": 69,
   "metadata": {},
   "outputs": [
    {
     "name": "stdout",
     "output_type": "stream",
     "text": [
      "['C:\\\\Users\\\\hunnibha\\\\projectStuff\\\\code\\\\testData\\\\errorConceal\\\\linear\\\\block3_pool\\\\noEC\\\\0.5\\\\0.5Loss_1BurstLength8Packet_block3_pool.npy', 'C:\\\\Users\\\\hunnibha\\\\projectStuff\\\\code\\\\testData\\\\errorConceal\\\\linear\\\\block3_pool\\\\noEC\\\\0.5\\\\0.5Loss_2BurstLength8Packet_block3_pool.npy', 'C:\\\\Users\\\\hunnibha\\\\projectStuff\\\\code\\\\testData\\\\errorConceal\\\\linear\\\\block3_pool\\\\noEC\\\\0.5\\\\0.5Loss_3BurstLength8Packet_block3_pool.npy', 'C:\\\\Users\\\\hunnibha\\\\projectStuff\\\\code\\\\testData\\\\errorConceal\\\\linear\\\\block3_pool\\\\noEC\\\\0.5\\\\0.5Loss_4BurstLength8Packet_block3_pool.npy', 'C:\\\\Users\\\\hunnibha\\\\projectStuff\\\\code\\\\testData\\\\errorConceal\\\\linear\\\\block3_pool\\\\noEC\\\\0.5\\\\0.5Loss_5BurstLength8Packet_block3_pool.npy']\n",
      "['C:\\\\Users\\\\hunnibha\\\\projectStuff\\\\code\\\\testData\\\\errorConceal\\\\linear\\\\block3_pool\\\\EC\\\\0.5\\\\0.5Loss_1BurstLength8Packet_block3_poolEC.npy', 'C:\\\\Users\\\\hunnibha\\\\projectStuff\\\\code\\\\testData\\\\errorConceal\\\\linear\\\\block3_pool\\\\EC\\\\0.5\\\\0.5Loss_2BurstLength8Packet_block3_poolEC.npy', 'C:\\\\Users\\\\hunnibha\\\\projectStuff\\\\code\\\\testData\\\\errorConceal\\\\linear\\\\block3_pool\\\\EC\\\\0.5\\\\0.5Loss_3BurstLength8Packet_block3_poolEC.npy', 'C:\\\\Users\\\\hunnibha\\\\projectStuff\\\\code\\\\testData\\\\errorConceal\\\\linear\\\\block3_pool\\\\EC\\\\0.5\\\\0.5Loss_4BurstLength8Packet_block3_poolEC.npy', 'C:\\\\Users\\\\hunnibha\\\\projectStuff\\\\code\\\\testData\\\\errorConceal\\\\linear\\\\block3_pool\\\\EC\\\\0.5\\\\0.5Loss_5BurstLength8Packet_block3_poolEC.npy']\n",
      "['C:\\\\Users\\\\hunnibha\\\\projectStuff\\\\code\\\\testData\\\\errorConceal\\\\NN\\\\block3_pool\\\\EC\\\\0.5\\\\0.5Loss_1BurstLength8Packet_block3_poolEC.npy', 'C:\\\\Users\\\\hunnibha\\\\projectStuff\\\\code\\\\testData\\\\errorConceal\\\\NN\\\\block3_pool\\\\EC\\\\0.5\\\\0.5Loss_2BurstLength8Packet_block3_poolEC.npy', 'C:\\\\Users\\\\hunnibha\\\\projectStuff\\\\code\\\\testData\\\\errorConceal\\\\NN\\\\block3_pool\\\\EC\\\\0.5\\\\0.5Loss_3BurstLength8Packet_block3_poolEC.npy', 'C:\\\\Users\\\\hunnibha\\\\projectStuff\\\\code\\\\testData\\\\errorConceal\\\\NN\\\\block3_pool\\\\EC\\\\0.5\\\\0.5Loss_4BurstLength8Packet_block3_poolEC.npy', 'C:\\\\Users\\\\hunnibha\\\\projectStuff\\\\code\\\\testData\\\\errorConceal\\\\NN\\\\block3_pool\\\\EC\\\\0.5\\\\0.5Loss_5BurstLength8Packet_block3_poolEC.npy']\n"
     ]
    }
   ],
   "source": [
    "nnList = os.listdir(nnDir)\n",
    "nnList = [os.path.join(nnDir, i) for i in nnList]\n",
    "linList = os.listdir(linDir)\n",
    "linList = [os.path.join(linDir, i) for i in linList]\n",
    "pureList = os.listdir(pureDir)\n",
    "pureList = [os.path.join(pureDir, i) for i in pureList]\n",
    "print(pureList)\n",
    "print(linList)\n",
    "print(nnList)"
   ]
  },
  {
   "cell_type": "code",
   "execution_count": 70,
   "metadata": {},
   "outputs": [
    {
     "name": "stdout",
     "output_type": "stream",
     "text": [
      "[0.35227273 0.33886364 0.33909091 0.33545455 0.34568182]\n",
      "[3.33066907e-16 4.00600015e-02 3.75763685e-02 4.37309581e-02\n",
      " 3.67233628e-02]\n"
     ]
    }
   ],
   "source": [
    "bl = np.arange(1, 6, 1)\n",
    "nnMean = []\n",
    "nnStd = []\n",
    "for i in nnList:\n",
    "    a = np.load(i)\n",
    "    b = a\n",
    "    a = np.mean(a, axis=0)\n",
    "    b = np.std(b, axis=0)\n",
    "    nnMean.append(a[1])\n",
    "    nnStd.append(b[1])\n",
    "nnMean = np.array(nnMean)\n",
    "nnStd = np.array(nnStd)\n",
    "print(nnMean)\n",
    "print(nnStd)"
   ]
  },
  {
   "cell_type": "code",
   "execution_count": 71,
   "metadata": {},
   "outputs": [
    {
     "name": "stdout",
     "output_type": "stream",
     "text": [
      "[0.35227273 0.33409091 0.33340909 0.34295455 0.3425    ]\n",
      "[3.33066907e-16 4.28214629e-02 3.94702786e-02 3.21162982e-02\n",
      " 3.31701412e-02]\n"
     ]
    }
   ],
   "source": [
    "linMean = []\n",
    "linStd = []\n",
    "for i in linList:\n",
    "    a = np.load(i)\n",
    "    b = a\n",
    "    a = np.mean(a, axis=0)\n",
    "    b = np.std(b, axis=0)\n",
    "    linMean.append(a[1])\n",
    "    linStd.append(b[1])\n",
    "linMean = np.array(linMean)\n",
    "linStd = np.array(linStd)\n",
    "print(linMean)\n",
    "print(linStd)"
   ]
  },
  {
   "cell_type": "code",
   "execution_count": 72,
   "metadata": {},
   "outputs": [
    {
     "name": "stdout",
     "output_type": "stream",
     "text": [
      "[0.35227273 0.39       0.37068182 0.38590909 0.38068182]\n",
      "[3.33066907e-16 4.35652830e-02 4.32947089e-02 4.02060807e-02\n",
      " 4.53550046e-02]\n"
     ]
    }
   ],
   "source": [
    "pureMean = []\n",
    "pureStd = []\n",
    "for i in pureList:\n",
    "    a = np.load(i)\n",
    "    b = a\n",
    "    a = np.mean(a, axis=0)\n",
    "    b = np.std(b, axis=0)\n",
    "    pureMean.append(a[1])\n",
    "    pureStd.append(b[1])\n",
    "pureMean = np.array(pureMean)\n",
    "pureStd = np.array(pureStd)\n",
    "print(pureMean)\n",
    "print(pureStd)"
   ]
  },
  {
   "cell_type": "code",
   "execution_count": 73,
   "metadata": {},
   "outputs": [
    {
     "data": {
      "text/plain": [
       "<matplotlib.legend.Legend at 0x124b9cf8>"
      ]
     },
     "execution_count": 73,
     "metadata": {},
     "output_type": "execute_result"
    },
    {
     "data": {
      "image/png": "[encoded data removed]",
      "text/plain": [
       "<Figure size 432x288 with 1 Axes>"
      ]
     },
     "metadata": {},
     "output_type": "display_data"
    }
   ],
   "source": [
    "plt.plot(bl, pureMean, label='Non EC')\n",
    "plt.fill_between(bl, pureMean-pureStd, pureMean+pureStd, alpha=0.7)\n",
    "\n",
    "plt.plot(bl, nnMean, label='NN EC')\n",
    "plt.fill_between(bl, nnMean-nnStd, nnMean+nnStd, alpha=0.5)\n",
    "\n",
    "plt.plot(bl, linMean, label='linear EC')\n",
    "plt.fill_between(bl, linMean-linStd, linMean+linStd, alpha=0.3)\n",
    "\n",
    "plt.xlim([1, 5])\n",
    "plt.ylim([0, 0.5])\n",
    "\n",
    "plt.xlabel('Burst length')\n",
    "plt.ylabel('Classification accuracy')\n",
    "plt.title('50 percent loss')\n",
    "plt.legend(loc='lower right')"
   ]
  },
  {
   "cell_type": "code",
   "execution_count": null,
   "metadata": {},
   "outputs": [],
   "source": []
  }
 ],
 "metadata": {
  "kernelspec": {
   "display_name": "kerasEnv",
   "language": "python",
   "name": "kerasenv"
  },
  "language_info": {
   "codemirror_mode": {
    "name": "ipython",
    "version": 3
   },
   "file_extension": ".py",
   "mimetype": "text/x-python",
   "name": "python",
   "nbconvert_exporter": "python",
   "pygments_lexer": "ipython3",
   "version": "3.6.4"
  }
 },
 "nbformat": 4,
 "nbformat_minor": 2
}
