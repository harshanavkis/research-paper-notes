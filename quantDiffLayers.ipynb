{
 "cells": [
  {
   "cell_type": "markdown",
   "metadata": {},
   "source": [
    "# Quantization results at different layers of VGG16"
   ]
  },
  {
   "cell_type": "markdown",
   "metadata": {},
   "source": [
    "## Specifications:"
   ]
  },
  {
   "cell_type": "markdown",
   "metadata": {},
   "source": [
    "* Simulations on the following layers:\n",
    "    * block2_conv2\n",
    "    * block3_conv2\n",
    "    * block3_pool\n",
    "    * block4_conv2\n",
    "    * block4_pool\n",
    "    * block5_conv2\n",
    "    * block5_pool\n",
    "* Quantization varies from 2 bit to 12 bit wih steps of 2\n",
    "* Plots of Quantization Vs Classification Accuracy"
   ]
  },
  {
   "cell_type": "markdown",
   "metadata": {},
   "source": [
    "## Plots"
   ]
  },
  {
   "cell_type": "code",
   "execution_count": 8,
   "metadata": {},
   "outputs": [],
   "source": [
    "import os\n",
    "import numpy as np\n",
    "from matplotlib import pyplot as plt\n",
    "%matplotlib inline"
   ]
  },
  {
   "cell_type": "code",
   "execution_count": 7,
   "metadata": {},
   "outputs": [
    {
     "data": {
      "text/plain": [
       "array(['quanTestData\\\\block2_conv2', 'quanTestData\\\\block3_conv2',\n",
       "       'quanTestData\\\\block3_pool', 'quanTestData\\\\block4_conv2',\n",
       "       'quanTestData\\\\block4_pool', 'quanTestData\\\\block5_conv2',\n",
       "       'quanTestData\\\\block5_pool'], dtype='<U25')"
      ]
     },
     "execution_count": 7,
     "metadata": {},
     "output_type": "execute_result"
    }
   ],
   "source": [
    "quanDir  = 'quanTestData'\n",
    "quanList = os.listdir(quanDir)\n",
    "quanList = np.array([os.path.join(quanDir, i) for i in quanList])\n",
    "quanList"
   ]
  },
  {
   "cell_type": "code",
   "execution_count": 23,
   "metadata": {},
   "outputs": [
    {
     "data": {
      "text/plain": [
       "array(['quanTestData\\\\block2_conv2\\\\0Loss_10Quantization1Packet_block2_conv2.npy',\n",
       "       'quanTestData\\\\block2_conv2\\\\0Loss_12Quantization1Packet_block2_conv2.npy',\n",
       "       'quanTestData\\\\block2_conv2\\\\0Loss_2Quantization1Packet_block2_conv2.npy',\n",
       "       'quanTestData\\\\block2_conv2\\\\0Loss_4Quantization1Packet_block2_conv2.npy',\n",
       "       'quanTestData\\\\block2_conv2\\\\0Loss_6Quantization1Packet_block2_conv2.npy',\n",
       "       'quanTestData\\\\block2_conv2\\\\0Loss_8Quantization1Packet_block2_conv2.npy'],\n",
       "      dtype='<U70')"
      ]
     },
     "execution_count": 23,
     "metadata": {},
     "output_type": "execute_result"
    }
   ],
   "source": [
    "# extracting data for the block2_conv2 layer\n",
    "b2c2List = os.listdir(quanList[0])\n",
    "b2c2List = np.array([os.path.join(quanList[0], i) for i in b2c2List])\n",
    "b2c2Data = []\n",
    "for i in b2c2List:\n",
    "    a = np.load(i)\n",
    "    m = np.mean(a, axis=0)\n",
    "    b2c2Data.append(m[1])\n",
    "b2c2List"
   ]
  },
  {
   "cell_type": "code",
   "execution_count": 22,
   "metadata": {},
   "outputs": [
    {
     "data": {
      "text/plain": [
       "array(['quanTestData\\\\block3_conv2\\\\0Loss_10Quantization1Packet_block3_conv2.npy',\n",
       "       'quanTestData\\\\block3_conv2\\\\0Loss_12Quantization1Packet_block3_conv2.npy',\n",
       "       'quanTestData\\\\block3_conv2\\\\0Loss_2Quantization1Packet_block3_conv2.npy',\n",
       "       'quanTestData\\\\block3_conv2\\\\0Loss_4Quantization1Packet_block3_conv2.npy',\n",
       "       'quanTestData\\\\block3_conv2\\\\0Loss_6Quantization1Packet_block3_conv2.npy',\n",
       "       'quanTestData\\\\block3_conv2\\\\0Loss_8Quantization1Packet_block3_conv2.npy'],\n",
       "      dtype='<U70')"
      ]
     },
     "execution_count": 22,
     "metadata": {},
     "output_type": "execute_result"
    }
   ],
   "source": [
    "# extracting data for the block3_conv2 layer\n",
    "b3c2List = os.listdir(quanList[1])\n",
    "b3c2List = np.array([os.path.join(quanList[1], i) for i in b3c2List])\n",
    "b3c2Data = []\n",
    "for i in b3c2List:\n",
    "    a = np.load(i)\n",
    "    m = np.mean(a, axis=0)\n",
    "    b3c2Data.append(m[1])\n",
    "b3c2List"
   ]
  },
  {
   "cell_type": "code",
   "execution_count": 24,
   "metadata": {},
   "outputs": [
    {
     "data": {
      "text/plain": [
       "array(['quanTestData\\\\block3_pool\\\\0Loss_10Quantization1Packet_block3_pool.npy',\n",
       "       'quanTestData\\\\block3_pool\\\\0Loss_12Quantization1Packet_block3_pool.npy',\n",
       "       'quanTestData\\\\block3_pool\\\\0Loss_2Quantization1Packet_block3_pool.npy',\n",
       "       'quanTestData\\\\block3_pool\\\\0Loss_4Quantization1Packet_block3_pool.npy',\n",
       "       'quanTestData\\\\block3_pool\\\\0Loss_6Quantization1Packet_block3_pool.npy',\n",
       "       'quanTestData\\\\block3_pool\\\\0Loss_8Quantization1Packet_block3_pool.npy'],\n",
       "      dtype='<U68')"
      ]
     },
     "execution_count": 24,
     "metadata": {},
     "output_type": "execute_result"
    }
   ],
   "source": [
    "# extracting data for the block3_pool layer\n",
    "b3pList = os.listdir(quanList[2])\n",
    "b3pList = np.array([os.path.join(quanList[2], i) for i in b3pList])\n",
    "b3pData = []\n",
    "for i in b3pList:\n",
    "    a = np.load(i)\n",
    "    m = np.mean(a, axis=0)\n",
    "    b3pData.append(m[1])\n",
    "b3pList"
   ]
  },
  {
   "cell_type": "code",
   "execution_count": 25,
   "metadata": {},
   "outputs": [
    {
     "data": {
      "text/plain": [
       "array(['quanTestData\\\\block4_conv2\\\\0Loss_10Quantization1Packet_block4_conv2.npy',\n",
       "       'quanTestData\\\\block4_conv2\\\\0Loss_12Quantization1Packet_block4_conv2.npy',\n",
       "       'quanTestData\\\\block4_conv2\\\\0Loss_2Quantization1Packet_block4_conv2.npy',\n",
       "       'quanTestData\\\\block4_conv2\\\\0Loss_4Quantization1Packet_block4_conv2.npy',\n",
       "       'quanTestData\\\\block4_conv2\\\\0Loss_6Quantization1Packet_block4_conv2.npy',\n",
       "       'quanTestData\\\\block4_conv2\\\\0Loss_8Quantization1Packet_block4_conv2.npy'],\n",
       "      dtype='<U70')"
      ]
     },
     "execution_count": 25,
     "metadata": {},
     "output_type": "execute_result"
    }
   ],
   "source": [
    "# extracting data for the block4_conv2 layer\n",
    "b4c2List = os.listdir(quanList[3])\n",
    "b4c2List = np.array([os.path.join(quanList[3], i) for i in b4c2List])\n",
    "b4c2Data = []\n",
    "for i in b4c2List:\n",
    "    a = np.load(i)\n",
    "    m = np.mean(a, axis=0)\n",
    "    b4c2Data.append(m[1])\n",
    "b4c2List"
   ]
  },
  {
   "cell_type": "code",
   "execution_count": 26,
   "metadata": {},
   "outputs": [
    {
     "data": {
      "text/plain": [
       "array(['quanTestData\\\\block4_pool\\\\0Loss_10Quantization1Packet_block4_pool.npy',\n",
       "       'quanTestData\\\\block4_pool\\\\0Loss_12Quantization1Packet_block4_pool.npy',\n",
       "       'quanTestData\\\\block4_pool\\\\0Loss_2Quantization1Packet_block4_pool.npy',\n",
       "       'quanTestData\\\\block4_pool\\\\0Loss_4Quantization1Packet_block4_pool.npy',\n",
       "       'quanTestData\\\\block4_pool\\\\0Loss_6Quantization1Packet_block4_pool.npy',\n",
       "       'quanTestData\\\\block4_pool\\\\0Loss_8Quantization1Packet_block4_pool.npy'],\n",
       "      dtype='<U68')"
      ]
     },
     "execution_count": 26,
     "metadata": {},
     "output_type": "execute_result"
    }
   ],
   "source": [
    "# extracting data for the block4_pool layer\n",
    "b4pList = os.listdir(quanList[4])\n",
    "b4pList = np.array([os.path.join(quanList[4], i) for i in b4pList])\n",
    "b4pData = []\n",
    "for i in b4pList:\n",
    "    a = np.load(i)\n",
    "    m = np.mean(a, axis=0)\n",
    "    b4pData.append(m[1])\n",
    "b4pList"
   ]
  },
  {
   "cell_type": "code",
   "execution_count": 27,
   "metadata": {},
   "outputs": [
    {
     "data": {
      "text/plain": [
       "array(['quanTestData\\\\block5_conv2\\\\0Loss_10Quantization1Packet_block5_conv2.npy',\n",
       "       'quanTestData\\\\block5_conv2\\\\0Loss_12Quantization1Packet_block5_conv2.npy',\n",
       "       'quanTestData\\\\block5_conv2\\\\0Loss_2Quantization1Packet_block5_conv2.npy',\n",
       "       'quanTestData\\\\block5_conv2\\\\0Loss_4Quantization1Packet_block5_conv2.npy',\n",
       "       'quanTestData\\\\block5_conv2\\\\0Loss_6Quantization1Packet_block5_conv2.npy',\n",
       "       'quanTestData\\\\block5_conv2\\\\0Loss_8Quantization1Packet_block5_conv2.npy'],\n",
       "      dtype='<U70')"
      ]
     },
     "execution_count": 27,
     "metadata": {},
     "output_type": "execute_result"
    }
   ],
   "source": [
    "# extracting data for the block5_conv2 layer\n",
    "b5c2List = os.listdir(quanList[5])\n",
    "b5c2List = np.array([os.path.join(quanList[5], i) for i in b5c2List])\n",
    "b5c2Data = []\n",
    "for i in b5c2List:\n",
    "    a = np.load(i)\n",
    "    m = np.mean(a, axis=0)\n",
    "    b5c2Data.append(m[1])\n",
    "b5c2List"
   ]
  },
  {
   "cell_type": "code",
   "execution_count": 28,
   "metadata": {},
   "outputs": [
    {
     "data": {
      "text/plain": [
       "array(['quanTestData\\\\block5_pool\\\\0Loss_10Quantization1Packet_block5_pool.npy',\n",
       "       'quanTestData\\\\block5_pool\\\\0Loss_12Quantization1Packet_block5_pool.npy',\n",
       "       'quanTestData\\\\block5_pool\\\\0Loss_2Quantization1Packet_block5_pool.npy',\n",
       "       'quanTestData\\\\block5_pool\\\\0Loss_4Quantization1Packet_block5_pool.npy',\n",
       "       'quanTestData\\\\block5_pool\\\\0Loss_6Quantization1Packet_block5_pool.npy',\n",
       "       'quanTestData\\\\block5_pool\\\\0Loss_8Quantization1Packet_block5_pool.npy'],\n",
       "      dtype='<U68')"
      ]
     },
     "execution_count": 28,
     "metadata": {},
     "output_type": "execute_result"
    }
   ],
   "source": [
    "# extracting data for the block5_pool layer\n",
    "b5pList = os.listdir(quanList[6])\n",
    "b5pList = np.array([os.path.join(quanList[6], i) for i in b5pList])\n",
    "b5pData = []\n",
    "for i in b5pList:\n",
    "    a = np.load(i)\n",
    "    m = np.mean(a, axis=0)\n",
    "    b5pData.append(m[1])\n",
    "b5pList"
   ]
  },
  {
   "cell_type": "code",
   "execution_count": 42,
   "metadata": {},
   "outputs": [
    {
     "data": {
      "image/png": "[encoded data removed]",
      "text/plain": [
       "<Figure size 432x288 with 1 Axes>"
      ]
     },
     "metadata": {},
     "output_type": "display_data"
    }
   ],
   "source": [
    "import itertools\n",
    "\n",
    "xIndices = np.array([10, 12, 2, 4, 6, 8])\n",
    "new_x, new_y = zip(*sorted(zip(xIndices, b2c2Data)))\n",
    "plt.plot(new_x, new_y, label='block2_conv2')\n",
    "\n",
    "new_x, new_y = zip(*sorted(zip(xIndices, b3c2Data)))\n",
    "plt.plot(new_x, new_y, label='block3_conv2')\n",
    "\n",
    "new_x, new_y = zip(*sorted(zip(xIndices, b3pData)))\n",
    "plt.plot(new_x, new_y, label='block3_pool')\n",
    "\n",
    "new_x, new_y = zip(*sorted(zip(xIndices, b4c2Data)))\n",
    "plt.plot(new_x, new_y, label='block4_conv2')\n",
    "\n",
    "new_x, new_y = zip(*sorted(zip(xIndices, b4pData)))\n",
    "plt.plot(new_x, new_y, label='block4_pool')\n",
    "\n",
    "new_x, new_y = zip(*sorted(zip(xIndices, b5c2Data)))\n",
    "plt.plot(new_x, new_y, label='block5_conv2')\n",
    "\n",
    "new_x, new_y = zip(*sorted(zip(xIndices, b5pData)))\n",
    "plt.plot(new_x, new_y, label='block5_pool')\n",
    "\n",
    "plt.xlabel('n bit quantization')\n",
    "plt.ylabel('Classification Accuracy')\n",
    "\n",
    "plt.legend(loc='lower right')\n",
    "plt.show()"
   ]
  },
  {
   "cell_type": "code",
   "execution_count": null,
   "metadata": {},
   "outputs": [],
   "source": []
  }
 ],
 "metadata": {
  "kernelspec": {
   "display_name": "kerasEnv",
   "language": "python",
   "name": "kerasenv"
  },
  "language_info": {
   "codemirror_mode": {
    "name": "ipython",
    "version": 3
   },
   "file_extension": ".py",
   "mimetype": "text/x-python",
   "name": "python",
   "nbconvert_exporter": "python",
   "pygments_lexer": "ipython3",
   "version": "3.6.4"
  }
 },
 "nbformat": 4,
 "nbformat_minor": 2
}
